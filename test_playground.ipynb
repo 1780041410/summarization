{
 "cells": [
  {
   "cell_type": "code",
   "execution_count": 1,
   "metadata": {},
   "outputs": [
    {
     "name": "stderr",
     "output_type": "stream",
     "text": [
      "/home/chenxiang/anaconda3/lib/python3.6/site-packages/h5py/__init__.py:36: FutureWarning: Conversion of the second argument of issubdtype from `float` to `np.floating` is deprecated. In future, it will be treated as `np.float64 == np.dtype(float).type`.\n",
      "  from ._conv import register_converters as _register_converters\n"
     ]
    }
   ],
   "source": [
    "import torch\n",
    "import torch.nn as nn\n",
    "import torch.nn.functional as F\n",
    "import numpy as np\n",
    "from IPython.display import display\n",
    "import pandas as pd\n",
    "import h5py\n",
    "import os\n",
    "# to load data from the test file\n",
    "from utils.create_datasets import SumDatasets\n",
    "# To load the data sets here, also we will create some examples to explore torch\n",
    "data_dir = '../data/'\n",
    "from utils import config\n",
    "import pickle\n",
    "from torch.nn.utils.rnn import pack_padded_sequence, pad_packed_sequence"
   ]
  },
  {
   "cell_type": "code",
   "execution_count": 2,
   "metadata": {},
   "outputs": [],
   "source": [
    "sum_dataset = SumDatasets(os.path.join(data_dir, 'features-600-40_v2.hdf5'))"
   ]
  },
  {
   "cell_type": "code",
   "execution_count": 3,
   "metadata": {},
   "outputs": [
    {
     "name": "stdout",
     "output_type": "stream",
     "text": [
      "trainsformed finished\n"
     ]
    },
    {
     "data": {
      "text/plain": [
       "tensor([600, 600, 600, 600, 600, 600, 600, 600, 600, 436])"
      ]
     },
     "metadata": {},
     "output_type": "display_data"
    }
   ],
   "source": [
    "features_1, features_2, features_3, features_4 = sum_dataset[0:10] # assume we have a batch data of 20 items.\n",
    "display(features_2)"
   ]
  },
  {
   "cell_type": "markdown",
   "metadata": {},
   "source": [
    "## given the data, build a very naive summarization model here\n",
    "* first, we need to compute all the hidden state of each time step and a final state, contain cell state and hidden state of the final time and feed it into the network and do the decoder agian."
   ]
  },
  {
   "cell_type": "code",
   "execution_count": 9,
   "metadata": {},
   "outputs": [],
   "source": [
    "class Encoder(nn.Module):\n",
    "    def __init__(self):\n",
    "        super(Encoder, self).__init__()\n",
    "        self.embed = nn.Embedding(config.NUM_WORDS + 2, config.embedding_dim)\n",
    "        self.rnn = nn.LSTM(config.embedding_dim, config.hidden_dim, bidirectional=True)\n",
    "        self.reduce_ = nn.Linear(2 * config.hidden_dim, config.hidden_dim)\n",
    "        \n",
    "    def forward(self, X, seq_lens):\n",
    "        \"\"\"return the final satets and also the outputs of each timesteps, for the later usage of\n",
    "        computing the Attentaion matrix foe each time step input of the Decoder.\n",
    "        \n",
    "        Parameters\n",
    "        ----------\n",
    "        X : [Torch tensor with batch*MAX_STEP]\n",
    "            \n",
    "        seq_lens : [descend order of the real length of the data]\n",
    "        \"\"\"\n",
    "        X = self.embed(X)\n",
    "        batch_size = X.size()[0]\n",
    "        packed_x = pack_padded_sequence(X, seq_lens, batch_first=True)\n",
    "        outputs, hidden = self.rnn(packed_x)\n",
    "        outputs, seq_lens = pad_packed_sequence(outputs, batch_first=True)\n",
    "        # outputs is a bathc*max_enc_steps*(2*hidden_dim), but for the hidden\n",
    "        # must give then to batch first format, so we need to implement this\n",
    "        # with the following code.\n",
    "        hidden_c, hidden_s = hidden\n",
    "        hidden_c = self.reduce_(hidden_c.permute([1, 0, 2]).contiguous().view(batch_size, -1))\n",
    "        hidden_s = self.reduce_(hidden_s.permute([1, 0, 2]).contiguous().view(batch_size, -1))\n",
    "        \n",
    "        hidden_c.unsqueeze_(1)\n",
    "        hidden_s.unsqueeze_(1)\n",
    "        # to make the hidden to be batch first and later, do the loop over time\n",
    "        hidden = (hidden_c.permute([1,0,2]), hidden_s.permute([1, 0, 2]))\n",
    "        return outputs, hidden"
   ]
  },
  {
   "cell_type": "code",
   "execution_count": 10,
   "metadata": {},
   "outputs": [
    {
     "data": {
      "text/plain": [
       "torch.Size([1, 10, 50])"
      ]
     },
     "metadata": {},
     "output_type": "display_data"
    }
   ],
   "source": [
    "encoder = Encoder()\n",
    "outputs, hidden = encoder(features_1, features_2)\n",
    "display(hidden[0].shape)"
   ]
  },
  {
   "cell_type": "code",
   "execution_count": 15,
   "metadata": {},
   "outputs": [],
   "source": [
    "class Decoder(nn.Module):\n",
    "    def __init__(self):\n",
    "        super(Decoder, self).__init__()\n",
    "        self.embed = nn.Embedding(config.NUM_WORDS+4, config.embedding_dim)\n",
    "        self.rnn = nn.LSTM(config.embedding_dim, config.hidden_dim, batch_first=True)\n",
    "        self.logits = nn.Linear(config.hidden_dim, config.NUM_WORDS, bias=False)\n",
    "        \n",
    "        \n",
    "        \n",
    "    def forward(self, X, hidden):\n",
    "        \"\"\"\n",
    "        using the encoder's hidden state to initiaize the decoder\n",
    "        input and also use the teaching force in the training mode. here\n",
    "        TODO: how we tell the real difference between the train, teaching force and\n",
    "        the evalutaion?\n",
    "        \"\"\"\n",
    "        X = self.embed(X)\n",
    "        # first we need to transoform the X to be the seq_len first\n",
    "        X = X.unsqueeze_(1) # just one time step, the X now shoud be batch_size*1*embeeding_dim\n",
    "        outputs, hidden = self.rnn(X, hidden)\n",
    "        outputs = F.log_softmax(self.logits(outputs.squeeze_(1)), dim=1)\n",
    "        return outputs, hidden"
   ]
  },
  {
   "cell_type": "code",
   "execution_count": 24,
   "metadata": {},
   "outputs": [
    {
     "ename": "RuntimeError",
     "evalue": "Assertion `cur_target >= 0 && cur_target < n_classes' failed.  at /pytorch/aten/src/THNN/generic/ClassNLLCriterion.c:93",
     "output_type": "error",
     "traceback": [
      "\u001b[0;31m---------------------------------------------------------------------------\u001b[0m",
      "\u001b[0;31mRuntimeError\u001b[0m                              Traceback (most recent call last)",
      "\u001b[0;32m<ipython-input-24-9977205ef2d4>\u001b[0m in \u001b[0;36m<module>\u001b[0;34m()\u001b[0m\n\u001b[1;32m     11\u001b[0m     \u001b[0;31m# here to implement the loss wrt target\u001b[0m\u001b[0;34m\u001b[0m\u001b[0;34m\u001b[0m\u001b[0m\n\u001b[1;32m     12\u001b[0m     \u001b[0mtarget\u001b[0m \u001b[0;34m=\u001b[0m \u001b[0mfeatures_4\u001b[0m\u001b[0;34m.\u001b[0m\u001b[0mpermute\u001b[0m\u001b[0;34m(\u001b[0m\u001b[0;36m1\u001b[0m\u001b[0;34m,\u001b[0m \u001b[0;36m0\u001b[0m\u001b[0;34m)\u001b[0m\u001b[0;34m[\u001b[0m\u001b[0mdi\u001b[0m\u001b[0;34m]\u001b[0m\u001b[0;34m\u001b[0m\u001b[0m\n\u001b[0;32m---> 13\u001b[0;31m     \u001b[0mloss\u001b[0m \u001b[0;34m+=\u001b[0m \u001b[0mcritertion\u001b[0m\u001b[0;34m(\u001b[0m\u001b[0moutput\u001b[0m\u001b[0;34m,\u001b[0m \u001b[0mtarget\u001b[0m\u001b[0;34m)\u001b[0m\u001b[0;34m\u001b[0m\u001b[0m\n\u001b[0m",
      "\u001b[0;32m~/anaconda3/lib/python3.6/site-packages/torch/nn/modules/module.py\u001b[0m in \u001b[0;36m__call__\u001b[0;34m(self, *input, **kwargs)\u001b[0m\n\u001b[1;32m    475\u001b[0m             \u001b[0mresult\u001b[0m \u001b[0;34m=\u001b[0m \u001b[0mself\u001b[0m\u001b[0;34m.\u001b[0m\u001b[0m_slow_forward\u001b[0m\u001b[0;34m(\u001b[0m\u001b[0;34m*\u001b[0m\u001b[0minput\u001b[0m\u001b[0;34m,\u001b[0m \u001b[0;34m**\u001b[0m\u001b[0mkwargs\u001b[0m\u001b[0;34m)\u001b[0m\u001b[0;34m\u001b[0m\u001b[0m\n\u001b[1;32m    476\u001b[0m         \u001b[0;32melse\u001b[0m\u001b[0;34m:\u001b[0m\u001b[0;34m\u001b[0m\u001b[0m\n\u001b[0;32m--> 477\u001b[0;31m             \u001b[0mresult\u001b[0m \u001b[0;34m=\u001b[0m \u001b[0mself\u001b[0m\u001b[0;34m.\u001b[0m\u001b[0mforward\u001b[0m\u001b[0;34m(\u001b[0m\u001b[0;34m*\u001b[0m\u001b[0minput\u001b[0m\u001b[0;34m,\u001b[0m \u001b[0;34m**\u001b[0m\u001b[0mkwargs\u001b[0m\u001b[0;34m)\u001b[0m\u001b[0;34m\u001b[0m\u001b[0m\n\u001b[0m\u001b[1;32m    478\u001b[0m         \u001b[0;32mfor\u001b[0m \u001b[0mhook\u001b[0m \u001b[0;32min\u001b[0m \u001b[0mself\u001b[0m\u001b[0;34m.\u001b[0m\u001b[0m_forward_hooks\u001b[0m\u001b[0;34m.\u001b[0m\u001b[0mvalues\u001b[0m\u001b[0;34m(\u001b[0m\u001b[0;34m)\u001b[0m\u001b[0;34m:\u001b[0m\u001b[0;34m\u001b[0m\u001b[0m\n\u001b[1;32m    479\u001b[0m             \u001b[0mhook_result\u001b[0m \u001b[0;34m=\u001b[0m \u001b[0mhook\u001b[0m\u001b[0;34m(\u001b[0m\u001b[0mself\u001b[0m\u001b[0;34m,\u001b[0m \u001b[0minput\u001b[0m\u001b[0;34m,\u001b[0m \u001b[0mresult\u001b[0m\u001b[0;34m)\u001b[0m\u001b[0;34m\u001b[0m\u001b[0m\n",
      "\u001b[0;32m~/anaconda3/lib/python3.6/site-packages/torch/nn/modules/loss.py\u001b[0m in \u001b[0;36mforward\u001b[0;34m(self, input, target)\u001b[0m\n\u001b[1;32m    198\u001b[0m \u001b[0;34m\u001b[0m\u001b[0m\n\u001b[1;32m    199\u001b[0m     \u001b[0;32mdef\u001b[0m \u001b[0mforward\u001b[0m\u001b[0;34m(\u001b[0m\u001b[0mself\u001b[0m\u001b[0;34m,\u001b[0m \u001b[0minput\u001b[0m\u001b[0;34m,\u001b[0m \u001b[0mtarget\u001b[0m\u001b[0;34m)\u001b[0m\u001b[0;34m:\u001b[0m\u001b[0;34m\u001b[0m\u001b[0m\n\u001b[0;32m--> 200\u001b[0;31m         \u001b[0;32mreturn\u001b[0m \u001b[0mF\u001b[0m\u001b[0;34m.\u001b[0m\u001b[0mnll_loss\u001b[0m\u001b[0;34m(\u001b[0m\u001b[0minput\u001b[0m\u001b[0;34m,\u001b[0m \u001b[0mtarget\u001b[0m\u001b[0;34m,\u001b[0m \u001b[0mweight\u001b[0m\u001b[0;34m=\u001b[0m\u001b[0mself\u001b[0m\u001b[0;34m.\u001b[0m\u001b[0mweight\u001b[0m\u001b[0;34m,\u001b[0m \u001b[0mignore_index\u001b[0m\u001b[0;34m=\u001b[0m\u001b[0mself\u001b[0m\u001b[0;34m.\u001b[0m\u001b[0mignore_index\u001b[0m\u001b[0;34m,\u001b[0m \u001b[0mreduction\u001b[0m\u001b[0;34m=\u001b[0m\u001b[0mself\u001b[0m\u001b[0;34m.\u001b[0m\u001b[0mreduction\u001b[0m\u001b[0;34m)\u001b[0m\u001b[0;34m\u001b[0m\u001b[0m\n\u001b[0m\u001b[1;32m    201\u001b[0m \u001b[0;34m\u001b[0m\u001b[0m\n\u001b[1;32m    202\u001b[0m \u001b[0;34m\u001b[0m\u001b[0m\n",
      "\u001b[0;32m~/anaconda3/lib/python3.6/site-packages/torch/nn/functional.py\u001b[0m in \u001b[0;36mnll_loss\u001b[0;34m(input, target, weight, size_average, ignore_index, reduce, reduction)\u001b[0m\n\u001b[1;32m   1405\u001b[0m                          .format(input.size(0), target.size(0)))\n\u001b[1;32m   1406\u001b[0m     \u001b[0;32mif\u001b[0m \u001b[0mdim\u001b[0m \u001b[0;34m==\u001b[0m \u001b[0;36m2\u001b[0m\u001b[0;34m:\u001b[0m\u001b[0;34m\u001b[0m\u001b[0m\n\u001b[0;32m-> 1407\u001b[0;31m         \u001b[0;32mreturn\u001b[0m \u001b[0mtorch\u001b[0m\u001b[0;34m.\u001b[0m\u001b[0m_C\u001b[0m\u001b[0;34m.\u001b[0m\u001b[0m_nn\u001b[0m\u001b[0;34m.\u001b[0m\u001b[0mnll_loss\u001b[0m\u001b[0;34m(\u001b[0m\u001b[0minput\u001b[0m\u001b[0;34m,\u001b[0m \u001b[0mtarget\u001b[0m\u001b[0;34m,\u001b[0m \u001b[0mweight\u001b[0m\u001b[0;34m,\u001b[0m \u001b[0m_Reduction\u001b[0m\u001b[0;34m.\u001b[0m\u001b[0mget_enum\u001b[0m\u001b[0;34m(\u001b[0m\u001b[0mreduction\u001b[0m\u001b[0;34m)\u001b[0m\u001b[0;34m,\u001b[0m \u001b[0mignore_index\u001b[0m\u001b[0;34m)\u001b[0m\u001b[0;34m\u001b[0m\u001b[0m\n\u001b[0m\u001b[1;32m   1408\u001b[0m     \u001b[0;32melif\u001b[0m \u001b[0mdim\u001b[0m \u001b[0;34m==\u001b[0m \u001b[0;36m4\u001b[0m\u001b[0;34m:\u001b[0m\u001b[0;34m\u001b[0m\u001b[0m\n\u001b[1;32m   1409\u001b[0m         \u001b[0;32mreturn\u001b[0m \u001b[0mtorch\u001b[0m\u001b[0;34m.\u001b[0m\u001b[0m_C\u001b[0m\u001b[0;34m.\u001b[0m\u001b[0m_nn\u001b[0m\u001b[0;34m.\u001b[0m\u001b[0mnll_loss2d\u001b[0m\u001b[0;34m(\u001b[0m\u001b[0minput\u001b[0m\u001b[0;34m,\u001b[0m \u001b[0mtarget\u001b[0m\u001b[0;34m,\u001b[0m \u001b[0mweight\u001b[0m\u001b[0;34m,\u001b[0m \u001b[0m_Reduction\u001b[0m\u001b[0;34m.\u001b[0m\u001b[0mget_enum\u001b[0m\u001b[0;34m(\u001b[0m\u001b[0mreduction\u001b[0m\u001b[0;34m)\u001b[0m\u001b[0;34m,\u001b[0m \u001b[0mignore_index\u001b[0m\u001b[0;34m)\u001b[0m\u001b[0;34m\u001b[0m\u001b[0m\n",
      "\u001b[0;31mRuntimeError\u001b[0m: Assertion `cur_target >= 0 && cur_target < n_classes' failed.  at /pytorch/aten/src/THNN/generic/ClassNLLCriterion.c:93"
     ]
    }
   ],
   "source": [
    "decoder = Decoder()\n",
    "outputs = []\n",
    "# simply test the time dimension \n",
    "# feature 3 shoud be time first\n",
    "# features_4 = features_4.permute([1, 0])\n",
    "loss = 0\n",
    "critertion = nn.NLLLoss(ignore_index=0)\n",
    "for di in range(config.max_dec_steps):\n",
    "    X = features_3[di]\n",
    "    output, hidden = decoder(X, hidden)\n",
    "    # here to implement the loss wrt target\n",
    "    target = features_4.permute(1, 0)[di]\n",
    "    loss += critertion(output, target)"
   ]
  },
  {
   "cell_type": "code",
   "execution_count": 10,
   "metadata": {},
   "outputs": [],
   "source": [
    "from torch.utils.data import DataLoader, SequentialSampler, BatchSampler\n",
    "sampler_ = BatchSampler(SequentialSampler(sum_dataset), batch_size = 10, drop_last=False)\n",
    "\n",
    "train_data = DataLoader(sum_dataset, shuffle=False, batch_sampler=sampler_)"
   ]
  },
  {
   "cell_type": "code",
   "execution_count": 11,
   "metadata": {},
   "outputs": [
    {
     "name": "stdout",
     "output_type": "stream",
     "text": [
      "trainsformed finished\n",
      "trainsformed finished\n",
      "trainsformed finished\n",
      "trainsformed finished\n",
      "trainsformed finished\n",
      "trainsformed finished\n",
      "trainsformed finished\n",
      "trainsformed finished\n",
      "trainsformed finished\n",
      "trainsformed finished\n"
     ]
    },
    {
     "data": {
      "text/plain": [
       "[tensor([[[   18,    20,     1,  ..., 50001,    51,     7]],\n",
       " \n",
       "         [[ 4011, 26440,   315,  ...,    89,     5,   739]],\n",
       " \n",
       "         [[   12,    18,  1212,  ...,    84,  1848,  1979]],\n",
       " \n",
       "         ...,\n",
       " \n",
       "         [[   14,    36,   263,  ...,  1709,   184,   282]],\n",
       " \n",
       "         [[  208,     7,  4228,  ...,     0,     0,     0]],\n",
       " \n",
       "         [[   52,   178,    79,  ...,     2,  1362,    40]]]),\n",
       " tensor([600, 600, 600, 600, 600, 600, 600, 600, 436, 600]),\n",
       " tensor([[[50003,    91,    75,     7,    31,  1336,  1351,    15,   623,     7,\n",
       "            1336,   208,  1351,  1351,   623,     5,   215,   623,  1351,     7,\n",
       "            1559,  1336,  1670,   623,   215,    15,  1307,    91,   149,    75,\n",
       "             211,     0,     0,     0,     0,     0,     0,     0,     0,     0]],\n",
       " \n",
       "         [[50003,  2441,  2250,     5,    31,    31,  1336,   215,  1336,     5,\n",
       "            2017,    31,   623,  1351,  1710,  1351,     5,   215,   208,     5,\n",
       "              31,    15,  1307,  1710,   770,  1336,  1559,  1559,   623,  1710,\n",
       "             623,     0,     0,     0,     0,     0,     0,     0,     0,     0]],\n",
       " \n",
       "         [[50003,  2017,   208,  1559,  1559,    31,  1351,     5,  1307,     7,\n",
       "             770,  1351,    15,   461,    31,  2017,  1336,  1351,   124,   623,\n",
       "            1351,  1710,  1351,  1336,   208,   461,  1336,  1307,   770,   623,\n",
       "            1336,     5,  1307,   215,  1351,   623,  2441,   124,     5,     7]],\n",
       " \n",
       "         [[50003,    31,  2250,   623,     5,  1559,  1043,    15,  1710,   623,\n",
       "            1307,     7,    15,     5,  1307,   770,  1351,   208,     7,     5,\n",
       "             215,   623,     5,  1307,   215,    31,  2250,   623,  1043,  1559,\n",
       "               5,   770,  1529,   124,     5,     7,     7,     0,     0,     0]],\n",
       " \n",
       "         [[50003,    31,  2250,   623,     7,   208,  1351,   461,  1351,    15,\n",
       "               7,    15,  1307,  1710,     7,   623,   770,  1351,   623,    31,\n",
       "              31,  1336,   770,  2250,     5,  1307,  1710,    15,  1307,  1710,\n",
       "              31,  2250,   623,  2441,  1336,  1351,  1559,   215,     0,     0]],\n",
       " \n",
       "         [[50003,  2017,    15,  1670,   623,    31,  2250,    15,  1307,  1710,\n",
       "               7,    15,  1670,   623,  1559,   623,     5,  1351,  1307,   623,\n",
       "             215,  2017,  1351,  1336,   124,     7,  2250,  1336,  1351,    31,\n",
       "              31,   623,  1351,   124,    31,  1351,     5,  1670,   623,  1559]],\n",
       " \n",
       "         [[50003,    15,  1307,  2017,  1559,   208,   623,  1307,    31,    15,\n",
       "               5,  1559,  1043,  1336,  1336,  1529,     7,    15,  1351,   623,\n",
       "               5,   215,    15,  1307,    31,  2250,   623,  1559,     5,     7,\n",
       "              31,    91,  2976,   623,     5,  1351,     7,     0,     0,     0]],\n",
       " \n",
       "         [[50003,  2250,  1336,  2441,    31,  1336,     7,   461,   623,  1307,\n",
       "             215,  1559,   623,     7,     7,     7,     5,  1670,   623,   124,\n",
       "            1336,  1351,   623,     5,  1307,   215,   770,  1559,   623,     5,\n",
       "            1307,   208,   461,  2976,  1336,   208,  1351,  2017,    15,  1307]],\n",
       " \n",
       "         [[50003,  2017,     5,   770,   623,  1336,  2017,   208,     7,     7,\n",
       "            1336,   770,   770,   623,  1351,     7,    15,  1307,   770,   623,\n",
       "              91,   149,   149,   209,  2441,     5,  1307,    31,     7,  1336,\n",
       "             208,    31,     0,     0,     0,     0,     0,     0,     0,     0]],\n",
       " \n",
       "         [[50003,  1559,   623,     5,  1670,    15,  1307,  1710,  1710,  1336,\n",
       "            1336,  1710,  1559,   623,  2017,  1336,  1351,  2017,  1351,    15,\n",
       "             623,  1307,   215,  5175,  2250,  1336,  2441,  2441,   623,   215,\n",
       "              15,   215,  2250,     5,  1307,   215,  1559,   623,    31,  2250]]]),\n",
       " tensor([[[   91,    75,     7,    31,  1336,  1351,    15,   623,     7,  1336,\n",
       "             208,  1351,  1351,   623,     5,   215,   623,  1351,     7,  1559,\n",
       "            1336,  1670,   623,   215,    15,  1307,    91,   149,    75,   211,\n",
       "           50002,     0,     0,     0,     0,     0,     0,     0,     0,     0]],\n",
       " \n",
       "         [[ 2441,  2250,     5,    31,    31,  1336,   215,  1336,     5,  2017,\n",
       "              31,   623,  1351,  1710,  1351,     5,   215,   208,     5,    31,\n",
       "              15,  1307,  1710,   770,  1336,  1559,  1559,   623,  1710,   623,\n",
       "           50002,     0,     0,     0,     0,     0,     0,     0,     0,     0]],\n",
       " \n",
       "         [[ 2017,   208,  1559,  1559,    31,  1351,     5,  1307,     7,   770,\n",
       "            1351,    15,   461,    31,  2017,  1336,  1351,   124,   623,  1351,\n",
       "            1710,  1351,  1336,   208,   461,  1336,  1307,   770,   623,  1336,\n",
       "               5,  1307,   215,  1351,   623,  2441,   124,     5,     7,  1336]],\n",
       " \n",
       "         [[   31,  2250,   623,     5,  1559,  1043,    15,  1710,   623,  1307,\n",
       "               7,    15,     5,  1307,   770,  1351,   208,     7,     5,   215,\n",
       "             623,     5,  1307,   215,    31,  2250,   623,  1043,  1559,     5,\n",
       "             770,  1529,   124,     5,     7,     7, 50002,     0,     0,     0]],\n",
       " \n",
       "         [[   31,  2250,   623,     7,   208,  1351,   461,  1351,    15,     7,\n",
       "              15,  1307,  1710,     7,   623,   770,  1351,   623,    31,    31,\n",
       "            1336,   770,  2250,     5,  1307,  1710,    15,  1307,  1710,    31,\n",
       "            2250,   623,  2441,  1336,  1351,  1559,   215, 50002,     0,     0]],\n",
       " \n",
       "         [[ 2017,    15,  1670,   623,    31,  2250,    15,  1307,  1710,     7,\n",
       "              15,  1670,   623,  1559,   623,     5,  1351,  1307,   623,   215,\n",
       "            2017,  1351,  1336,   124,     7,  2250,  1336,  1351,    31,    31,\n",
       "             623,  1351,   124,    31,  1351,     5,  1670,   623,  1559,  1559]],\n",
       " \n",
       "         [[   15,  1307,  2017,  1559,   208,   623,  1307,    31,    15,     5,\n",
       "            1559,  1043,  1336,  1336,  1529,     7,    15,  1351,   623,     5,\n",
       "             215,    15,  1307,    31,  2250,   623,  1559,     5,     7,    31,\n",
       "              91,  2976,   623,     5,  1351,     7, 50002,     0,     0,     0]],\n",
       " \n",
       "         [[ 2250,  1336,  2441,    31,  1336,     7,   461,   623,  1307,   215,\n",
       "            1559,   623,     7,     7,     7,     5,  1670,   623,   124,  1336,\n",
       "            1351,   623,     5,  1307,   215,   770,  1559,   623,     5,  1307,\n",
       "             208,   461,  2976,  1336,   208,  1351,  2017,    15,  1307,     5]],\n",
       " \n",
       "         [[ 2017,     5,   770,   623,  1336,  2017,   208,     7,     7,  1336,\n",
       "             770,   770,   623,  1351,     7,    15,  1307,   770,   623,    91,\n",
       "             149,   149,   209,  2441,     5,  1307,    31,     7,  1336,   208,\n",
       "              31, 50002,     0,     0,     0,     0,     0,     0,     0,     0]],\n",
       " \n",
       "         [[ 1559,   623,     5,  1670,    15,  1307,  1710,  1710,  1336,  1336,\n",
       "            1710,  1559,   623,  2017,  1336,  1351,  2017,  1351,    15,   623,\n",
       "            1307,   215,  5175,  2250,  1336,  2441,  2441,   623,   215,    15,\n",
       "             215,  2250,     5,  1307,   215,  1559,   623,    31,  2250,   623]]])]"
      ]
     },
     "metadata": {},
     "output_type": "display_data"
    }
   ],
   "source": [
    "for i_batch, sample_batched in enumerate(train_data):\n",
    "    display(sample_batched)\n",
    "    break"
   ]
  },
  {
   "cell_type": "code",
   "execution_count": null,
   "metadata": {},
   "outputs": [],
   "source": []
  }
 ],
 "metadata": {
  "kernelspec": {
   "display_name": "Python 3",
   "language": "python",
   "name": "python3"
  },
  "language_info": {
   "codemirror_mode": {
    "name": "ipython",
    "version": 3
   },
   "file_extension": ".py",
   "mimetype": "text/x-python",
   "name": "python",
   "nbconvert_exporter": "python",
   "pygments_lexer": "ipython3",
   "version": "3.6.5"
  }
 },
 "nbformat": 4,
 "nbformat_minor": 2
}
