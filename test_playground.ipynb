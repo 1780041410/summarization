{
 "cells": [
  {
   "cell_type": "code",
   "execution_count": 1,
   "metadata": {},
   "outputs": [
    {
     "name": "stderr",
     "output_type": "stream",
     "text": [
      "/home/chenxiang/anaconda3/lib/python3.6/site-packages/h5py/__init__.py:36: FutureWarning: Conversion of the second argument of issubdtype from `float` to `np.floating` is deprecated. In future, it will be treated as `np.float64 == np.dtype(float).type`.\n",
      "  from ._conv import register_converters as _register_converters\n"
     ]
    }
   ],
   "source": [
    "import torch\n",
    "import torch.nn as nn\n",
    "import torch.nn.functional as F\n",
    "import numpy as np\n",
    "from IPython.display import display\n",
    "import pandas as pd\n",
    "import h5py\n",
    "import os\n",
    "# to load data from the test file\n",
    "from utils.create_datasets import SumDatasets\n",
    "# To load the data sets here, also we will create some examples to explore torch\n",
    "data_dir = '../data/'\n",
    "from utils import config\n",
    "import pickle\n",
    "from torch.nn.utils.rnn import pack_padded_sequence, pad_packed_sequence"
   ]
  },
  {
   "cell_type": "code",
   "execution_count": 2,
   "metadata": {},
   "outputs": [],
   "source": [
    "sum_dataset = SumDatasets(os.path.join(data_dir, 'features-600-40_v2.hdf5'))"
   ]
  },
  {
   "cell_type": "code",
   "execution_count": 5,
   "metadata": {},
   "outputs": [],
   "source": [
    "features_1, features_2, features_3, features_4 = sum_dataset[0:10] # assume we have a batch data of 20 items."
   ]
  },
  {
   "cell_type": "markdown",
   "metadata": {},
   "source": [
    "## given the data, build a very naive summarization model here\n",
    "* first, we need to compute all the hidden state of each time step and a final state, contain cell state and hidden state of the final time and feed it into the network and do the decoder agian."
   ]
  },
  {
   "cell_type": "code",
   "execution_count": 34,
   "metadata": {},
   "outputs": [],
   "source": [
    "class Encoder(nn.Module):\n",
    "    def __init__(self):\n",
    "        super(Encoder, self).__init__()\n",
    "        self.embed = nn.Embedding(config.NUM_WORDS + 2, config.embedding_dim)\n",
    "        self.rnn = nn.LSTM(config.embedding_dim, config.hidden_dim, bidirectional=True)\n",
    "        self.reduce_ = nn.Linear(2 * config.hidden_dim, config.hidden_dim)\n",
    "        \n",
    "    def forward(self, X, seq_lens):\n",
    "        \"\"\"return the final satets and also the outputs of each timesteps, for the later usage of\n",
    "        computing the Attentaion matrix foe each time step input of the Decoder.\n",
    "        \n",
    "        Parameters\n",
    "        ----------\n",
    "        X : [Torch tensor with batch*MAX_STEP]\n",
    "            \n",
    "        seq_lens : [descend order of the real length of the data]\n",
    "        \"\"\"\n",
    "        X = self.embed(X)\n",
    "        batch_size = X.size()[0]\n",
    "        packed_x = pack_padded_sequence(X, seq_lens, batch_first=True)\n",
    "        outputs, hidden = self.rnn(packed_x)\n",
    "        outputs, seq_lens = pad_packed_sequence(outputs, batch_first=True)\n",
    "        # outputs is a bathc*max_enc_steps*(2*hidden_dim), but for the hidden\n",
    "        # must give then to batch first format, so we need to implement this\n",
    "        # with the following code.\n",
    "        hidden_c, hidden_s = hidden\n",
    "        hidden_c = self.reduce_(hidden_c.permute([1, 0, 2]).contiguous().view(batch_size, -1))\n",
    "        hidden_s = self.reduce_(hidden_s.permute([1, 0, 2]).contiguous().view(batch_size, -1))\n",
    "        # then combine all the hidden states to a entry for the decoder rnn initialize\n",
    "        return outputs, hidden_c, hidden_s"
   ]
  },
  {
   "cell_type": "code",
   "execution_count": 44,
   "metadata": {},
   "outputs": [
    {
     "data": {
      "text/plain": [
       "torch.Size([1, 10, 50])"
      ]
     },
     "metadata": {},
     "output_type": "display_data"
    },
    {
     "data": {
      "text/plain": [
       "torch.Size([1, 10, 50])"
      ]
     },
     "metadata": {},
     "output_type": "display_data"
    }
   ],
   "source": [
    "encoder = Encoder()\n",
    "outputs, hidden_c, hidden_s = encoder(features_1, features_2)\n",
    "display(hidden_c.unsqueeze_(0).shape)\n",
    "display(hidden_s.unsqueeze_(0).shape)\n"
   ]
  },
  {
   "cell_type": "code",
   "execution_count": 95,
   "metadata": {},
   "outputs": [],
   "source": [
    "class Decoder(nn.Module):\n",
    "    def __init__(self):\n",
    "        super(Decoder, self).__init__()\n",
    "        self.embed = nn.Embedding(config.NUM_WORDS+4, config.embedding_dim)\n",
    "        self.rnn = nn.LSTM(config.embedding_dim, config.hidden_dim)\n",
    "        self.logits = nn.Linear(config.hidden_dim, config.NUM_WORDS, bias=False)\n",
    "        \n",
    "        \n",
    "        \n",
    "    def forward(self, X, hidden_c, hidden_s):\n",
    "        \"\"\"\n",
    "        using the encoder's hidden state to initiaize the decoder\n",
    "        input and also use the teaching force in the training mode. here\n",
    "        TODO: how we tell the real difference between the train, teaching force and\n",
    "        the evalutaion?\n",
    "        \"\"\"\n",
    "        X = self.embed(X)\n",
    "        # first we need to transoform the X to be the seq_len first\n",
    "        outputs, hidden = self.rnn(X.permute([1, 0, 2]), (hidden_c, hidden_s))\n",
    "        outputs = F.softmax(self.logits(outputs), dim=2)\n",
    "        outputs = outputs.permute([1, 0, 2]).contiguous().view(-1, config.NUM_WORDS)\n",
    "        return outputs"
   ]
  }
 ],
 "metadata": {
  "kernelspec": {
   "display_name": "Python 3",
   "language": "python",
   "name": "python3"
  },
  "language_info": {
   "codemirror_mode": {
    "name": "ipython",
    "version": 3
   },
   "file_extension": ".py",
   "mimetype": "text/x-python",
   "name": "python",
   "nbconvert_exporter": "python",
   "pygments_lexer": "ipython3",
   "version": "3.6.5"
  }
 },
 "nbformat": 4,
 "nbformat_minor": 2
}
