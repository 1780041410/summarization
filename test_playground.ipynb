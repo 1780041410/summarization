{
 "cells": [
  {
   "cell_type": "code",
   "execution_count": 1,
   "metadata": {},
   "outputs": [
    {
     "name": "stderr",
     "output_type": "stream",
     "text": [
      "/home/chenxiang/anaconda3/lib/python3.6/site-packages/h5py/__init__.py:36: FutureWarning: Conversion of the second argument of issubdtype from `float` to `np.floating` is deprecated. In future, it will be treated as `np.float64 == np.dtype(float).type`.\n",
      "  from ._conv import register_converters as _register_converters\n"
     ]
    }
   ],
   "source": [
    "import torch\n",
    "import torch.nn as nn\n",
    "import torch.nn.functional as F\n",
    "import numpy as np\n",
    "from IPython.display import display\n",
    "import pandas as pd\n",
    "import h5py\n",
    "import os\n",
    "from tqdm import tqdm\n",
    "# to load data from the test file\n",
    "from utils.create_datasets import SumDatasets\n",
    "# To load the data sets here, also we will create some examples to explore torch\n",
    "data_dir = '../data/'\n",
    "from utils import config\n",
    "import pickle\n",
    "from torch.nn.utils.rnn import pack_padded_sequence, pad_packed_sequence"
   ]
  },
  {
   "cell_type": "code",
   "execution_count": 2,
   "metadata": {},
   "outputs": [],
   "source": [
    "sum_dataset = SumDatasets(os.path.join(data_dir, 'features-600-40_v2.hdf5'))"
   ]
  },
  {
   "cell_type": "code",
   "execution_count": 5,
   "metadata": {},
   "outputs": [
    {
     "data": {
      "text/plain": [
       "tensor([600, 600, 600, 600, 600, 600, 600, 600, 600, 436])"
      ]
     },
     "metadata": {},
     "output_type": "display_data"
    }
   ],
   "source": [
    "def encoder_transform(features_1, features_2, features_3, features_4):\n",
    "    \"\"\"\n",
    "    To transform the data to the format, we need to order the data in the sequences of length\n",
    "    ,so we can later utilize the data in the NN model with the pack_paded_sequences and pad_packed_sequences.\n",
    "    \n",
    "    Parameters\n",
    "    ----------\n",
    "        \n",
    "    \"\"\"\n",
    "    assert isinstance(features_1, torch.Tensor), \"You must give the data to tensor object\"\n",
    "    batch_size = features_1.size(0)\n",
    "    if batch_size == 1:\n",
    "        pass\n",
    "    else:\n",
    "        sorted_length, sorted_idx = features_2.sort()  # sort will return both the ascending sorted value and also the sorted index\n",
    "        reverse_idx = torch.linspace(batch_size - 1, 0, batch_size).long()  # this will contain the batch_size-1\n",
    "        sorted_length, sorted_idx = sorted_length[reverse_idx], sorted_idx[reverse_idx]\n",
    "        features_1 = features_1[sorted_idx]\n",
    "        features_2 = features_2[sorted_idx]\n",
    "        features_3 = features_3[sorted_idx]\n",
    "        features_4 = features_4[sorted_idx]\n",
    "    features_1.squeeze_(1), features_3.squeeze_(1), features_4.squeeze_(1)\n",
    "    features_3 = features_3.permute([1, 0])\n",
    "    features_4 = features_4.permute([1, 0])\n",
    "    return features_1, features_2, features_3, features_4\n",
    "features_1, features_2, features_3, features_4 = sum_dataset[0:10] # assume we have a batch data of 20 items.\n",
    "display(features_2)"
   ]
  },
  {
   "cell_type": "markdown",
   "metadata": {},
   "source": [
    "## given the data, build a very naive summarization model here\n",
    "* first, we need to compute all the hidden state of each time step and a final state, contain cell state and hidden state of the final time and feed it into the network and do the decoder agian."
   ]
  },
  {
   "cell_type": "code",
   "execution_count": 4,
   "metadata": {},
   "outputs": [],
   "source": [
    "class Encoder(nn.Module):\n",
    "    def __init__(self):\n",
    "        super(Encoder, self).__init__()\n",
    "        self.embed = nn.Embedding(config.NUM_WORDS + 2, config.embedding_dim)\n",
    "        self.rnn = nn.LSTM(config.embedding_dim, config.hidden_dim, bidirectional=True)\n",
    "        self.reduce_ = nn.Linear(2 * config.hidden_dim, config.hidden_dim)\n",
    "        \n",
    "    def forward(self, X, seq_lens):\n",
    "        \"\"\"return the final satets and also the outputs of each timesteps, for the later usage of\n",
    "        computing the Attentaion matrix foe each time step input of the Decoder.\n",
    "        \n",
    "        Parameters\n",
    "        ----------\n",
    "        X : [Torch tensor with batch*MAX_STEP]\n",
    "            \n",
    "        seq_lens : [descend order of the real length of the data]\n",
    "        \"\"\"\n",
    "        X = self.embed(X)\n",
    "        batch_size = X.size()[0]\n",
    "        packed_x = pack_padded_sequence(X, seq_lens, batch_first=True)\n",
    "        outputs, hidden = self.rnn(packed_x)\n",
    "        outputs, seq_lens = pad_packed_sequence(outputs, batch_first=True)\n",
    "        # outputs is a bathc*max_enc_steps*(2*hidden_dim), but for the hidden\n",
    "        # must give then to batch first format, so we need to implement this\n",
    "        # with the following code.\n",
    "        hidden_c, hidden_s = hidden\n",
    "        hidden_c = self.reduce_(hidden_c.permute([1, 0, 2]).contiguous().view(batch_size, -1))\n",
    "        hidden_s = self.reduce_(hidden_s.permute([1, 0, 2]).contiguous().view(batch_size, -1))\n",
    "        \n",
    "        hidden_c.unsqueeze_(1)\n",
    "        hidden_s.unsqueeze_(1)\n",
    "        # to make the hidden to be batch first and later, do the loop over time\n",
    "        hidden = (hidden_c.permute([1,0,2]), hidden_s.permute([1, 0, 2]))\n",
    "        return outputs, hidden"
   ]
  },
  {
   "cell_type": "code",
   "execution_count": 6,
   "metadata": {},
   "outputs": [
    {
     "data": {
      "text/plain": [
       "torch.Size([1, 10, 50])"
      ]
     },
     "metadata": {},
     "output_type": "display_data"
    }
   ],
   "source": [
    "encoder = Encoder()\n",
    "# display(features_1.squeeze_(1).shape)\n",
    "features_1, features_2, features_3, features_4 = encoder_transform(features_1, features_2, features_3, features_4)\n",
    "outputs, hidden = encoder(features_1, features_2)\n",
    "display(hidden[0].shape)"
   ]
  },
  {
   "cell_type": "code",
   "execution_count": 7,
   "metadata": {},
   "outputs": [],
   "source": [
    "class Decoder(nn.Module):\n",
    "    def __init__(self):\n",
    "        super(Decoder, self).__init__()\n",
    "        self.embed = nn.Embedding(config.NUM_WORDS+4, config.embedding_dim)\n",
    "        self.rnn = nn.LSTM(config.embedding_dim, config.hidden_dim, batch_first=True)\n",
    "        self.logits = nn.Linear(config.hidden_dim, config.NUM_WORDS+4, bias=False)\n",
    "        \n",
    "        \n",
    "        \n",
    "    def forward(self, X, hidden):\n",
    "        \"\"\"\n",
    "        using the encoder's hidden state to initiaize the decoder\n",
    "        input and also use the teaching force in the training mode. here\n",
    "        TODO: how we tell the real difference between the train, teaching force and\n",
    "        the evalutaion?\n",
    "        \"\"\"\n",
    "        X = self.embed(X)\n",
    "        # first we need to transoform the X to be the seq_len first\n",
    "        X = X.unsqueeze_(1) # just one time step, the X now shoud be batch_size*1*embeeding_dim\n",
    "        outputs, hidden = self.rnn(X, hidden)\n",
    "        outputs = F.log_softmax(self.logits(outputs.squeeze_(1)), dim=1)\n",
    "        return outputs, hidden"
   ]
  },
  {
   "cell_type": "code",
   "execution_count": 9,
   "metadata": {},
   "outputs": [
    {
     "name": "stdout",
     "output_type": "stream",
     "text": [
      "+++++++++++++0++++++++++++++\n"
     ]
    },
    {
     "data": {
      "text/plain": [
       "torch.Size([10, 50004])"
      ]
     },
     "metadata": {},
     "output_type": "display_data"
    },
    {
     "data": {
      "text/plain": [
       "tensor([  91, 2441, 2017,   31,   31, 2017,   15, 2250, 1559, 2017])"
      ]
     },
     "metadata": {},
     "output_type": "display_data"
    },
    {
     "data": {
      "text/plain": [
       "tensor(10.8721, grad_fn=<AddBackward>)"
      ]
     },
     "metadata": {},
     "output_type": "display_data"
    },
    {
     "name": "stdout",
     "output_type": "stream",
     "text": [
      "+++++++++++++1++++++++++++++\n"
     ]
    },
    {
     "data": {
      "text/plain": [
       "torch.Size([10, 50004])"
      ]
     },
     "metadata": {},
     "output_type": "display_data"
    },
    {
     "data": {
      "text/plain": [
       "tensor([  75, 2250,  208, 2250, 2250,   15, 1307, 1336,  623,    5])"
      ]
     },
     "metadata": {},
     "output_type": "display_data"
    },
    {
     "data": {
      "text/plain": [
       "tensor(21.7097, grad_fn=<ThAddBackward>)"
      ]
     },
     "metadata": {},
     "output_type": "display_data"
    },
    {
     "name": "stdout",
     "output_type": "stream",
     "text": [
      "+++++++++++++2++++++++++++++\n"
     ]
    },
    {
     "data": {
      "text/plain": [
       "torch.Size([10, 50004])"
      ]
     },
     "metadata": {},
     "output_type": "display_data"
    },
    {
     "data": {
      "text/plain": [
       "tensor([   7,    5, 1559,  623,  623, 1670, 2017, 2441,    5,  770])"
      ]
     },
     "metadata": {},
     "output_type": "display_data"
    },
    {
     "data": {
      "text/plain": [
       "tensor(32.5488, grad_fn=<ThAddBackward>)"
      ]
     },
     "metadata": {},
     "output_type": "display_data"
    },
    {
     "name": "stdout",
     "output_type": "stream",
     "text": [
      "+++++++++++++3++++++++++++++\n"
     ]
    },
    {
     "data": {
      "text/plain": [
       "torch.Size([10, 50004])"
      ]
     },
     "metadata": {},
     "output_type": "display_data"
    },
    {
     "data": {
      "text/plain": [
       "tensor([  31,   31, 1559,    5,    7,  623, 1559,   31, 1670,  623])"
      ]
     },
     "metadata": {},
     "output_type": "display_data"
    },
    {
     "data": {
      "text/plain": [
       "tensor(43.3820, grad_fn=<ThAddBackward>)"
      ]
     },
     "metadata": {},
     "output_type": "display_data"
    },
    {
     "name": "stdout",
     "output_type": "stream",
     "text": [
      "+++++++++++++4++++++++++++++\n"
     ]
    },
    {
     "data": {
      "text/plain": [
       "torch.Size([10, 50004])"
      ]
     },
     "metadata": {},
     "output_type": "display_data"
    },
    {
     "data": {
      "text/plain": [
       "tensor([1336,   31,   31, 1559,  208,   31,  208, 1336,   15, 1336])"
      ]
     },
     "metadata": {},
     "output_type": "display_data"
    },
    {
     "data": {
      "text/plain": [
       "tensor(54.2054, grad_fn=<ThAddBackward>)"
      ]
     },
     "metadata": {},
     "output_type": "display_data"
    },
    {
     "name": "stdout",
     "output_type": "stream",
     "text": [
      "+++++++++++++5++++++++++++++\n"
     ]
    },
    {
     "data": {
      "text/plain": [
       "torch.Size([10, 50004])"
      ]
     },
     "metadata": {},
     "output_type": "display_data"
    },
    {
     "data": {
      "text/plain": [
       "tensor([1351, 1336, 1351, 1043, 1351, 2250,  623,    7, 1307, 2017])"
      ]
     },
     "metadata": {},
     "output_type": "display_data"
    },
    {
     "data": {
      "text/plain": [
       "tensor(65.0108, grad_fn=<ThAddBackward>)"
      ]
     },
     "metadata": {},
     "output_type": "display_data"
    },
    {
     "name": "stdout",
     "output_type": "stream",
     "text": [
      "+++++++++++++6++++++++++++++\n"
     ]
    },
    {
     "data": {
      "text/plain": [
       "torch.Size([10, 50004])"
      ]
     },
     "metadata": {},
     "output_type": "display_data"
    },
    {
     "data": {
      "text/plain": [
       "tensor([  15,  215,    5,   15,  461,   15, 1307,  461, 1710,  208])"
      ]
     },
     "metadata": {},
     "output_type": "display_data"
    },
    {
     "data": {
      "text/plain": [
       "tensor(75.8343, grad_fn=<ThAddBackward>)"
      ]
     },
     "metadata": {},
     "output_type": "display_data"
    },
    {
     "name": "stdout",
     "output_type": "stream",
     "text": [
      "+++++++++++++7++++++++++++++\n"
     ]
    },
    {
     "data": {
      "text/plain": [
       "torch.Size([10, 50004])"
      ]
     },
     "metadata": {},
     "output_type": "display_data"
    },
    {
     "data": {
      "text/plain": [
       "tensor([ 623, 1336, 1307, 1710, 1351, 1307,   31,  623, 1710,    7])"
      ]
     },
     "metadata": {},
     "output_type": "display_data"
    },
    {
     "data": {
      "text/plain": [
       "tensor(86.6443, grad_fn=<ThAddBackward>)"
      ]
     },
     "metadata": {},
     "output_type": "display_data"
    },
    {
     "name": "stdout",
     "output_type": "stream",
     "text": [
      "+++++++++++++8++++++++++++++\n"
     ]
    },
    {
     "data": {
      "text/plain": [
       "torch.Size([10, 50004])"
      ]
     },
     "metadata": {},
     "output_type": "display_data"
    },
    {
     "data": {
      "text/plain": [
       "tensor([   7,    5,    7,  623,   15, 1710,   15, 1307, 1336,    7])"
      ]
     },
     "metadata": {},
     "output_type": "display_data"
    },
    {
     "data": {
      "text/plain": [
       "tensor(97.4298, grad_fn=<ThAddBackward>)"
      ]
     },
     "metadata": {},
     "output_type": "display_data"
    },
    {
     "name": "stdout",
     "output_type": "stream",
     "text": [
      "+++++++++++++9++++++++++++++\n"
     ]
    },
    {
     "data": {
      "text/plain": [
       "torch.Size([10, 50004])"
      ]
     },
     "metadata": {},
     "output_type": "display_data"
    },
    {
     "data": {
      "text/plain": [
       "tensor([1336, 2017,  770, 1307,    7,    7,    5,  215, 1336, 1336])"
      ]
     },
     "metadata": {},
     "output_type": "display_data"
    },
    {
     "data": {
      "text/plain": [
       "tensor(108.2259, grad_fn=<ThAddBackward>)"
      ]
     },
     "metadata": {},
     "output_type": "display_data"
    },
    {
     "name": "stdout",
     "output_type": "stream",
     "text": [
      "+++++++++++++10++++++++++++++\n"
     ]
    },
    {
     "data": {
      "text/plain": [
       "torch.Size([10, 50004])"
      ]
     },
     "metadata": {},
     "output_type": "display_data"
    },
    {
     "data": {
      "text/plain": [
       "tensor([ 208,   31, 1351,    7,   15,   15, 1559, 1559, 1710,  770])"
      ]
     },
     "metadata": {},
     "output_type": "display_data"
    },
    {
     "data": {
      "text/plain": [
       "tensor(119.0322, grad_fn=<ThAddBackward>)"
      ]
     },
     "metadata": {},
     "output_type": "display_data"
    },
    {
     "name": "stdout",
     "output_type": "stream",
     "text": [
      "+++++++++++++11++++++++++++++\n"
     ]
    },
    {
     "data": {
      "text/plain": [
       "torch.Size([10, 50004])"
      ]
     },
     "metadata": {},
     "output_type": "display_data"
    },
    {
     "data": {
      "text/plain": [
       "tensor([1351,  623,   15,   15, 1307, 1670, 1043,  623, 1559,  770])"
      ]
     },
     "metadata": {},
     "output_type": "display_data"
    },
    {
     "data": {
      "text/plain": [
       "tensor(129.8577, grad_fn=<ThAddBackward>)"
      ]
     },
     "metadata": {},
     "output_type": "display_data"
    },
    {
     "name": "stdout",
     "output_type": "stream",
     "text": [
      "+++++++++++++12++++++++++++++\n"
     ]
    },
    {
     "data": {
      "text/plain": [
       "torch.Size([10, 50004])"
      ]
     },
     "metadata": {},
     "output_type": "display_data"
    },
    {
     "data": {
      "text/plain": [
       "tensor([1351, 1351,  461,    5, 1710,  623, 1336,    7,  623,  623])"
      ]
     },
     "metadata": {},
     "output_type": "display_data"
    },
    {
     "data": {
      "text/plain": [
       "tensor(140.7036, grad_fn=<ThAddBackward>)"
      ]
     },
     "metadata": {},
     "output_type": "display_data"
    },
    {
     "name": "stdout",
     "output_type": "stream",
     "text": [
      "+++++++++++++13++++++++++++++\n"
     ]
    },
    {
     "data": {
      "text/plain": [
       "torch.Size([10, 50004])"
      ]
     },
     "metadata": {},
     "output_type": "display_data"
    },
    {
     "data": {
      "text/plain": [
       "tensor([ 623, 1710,   31, 1307,    7, 1559, 1336,    7, 2017, 1351])"
      ]
     },
     "metadata": {},
     "output_type": "display_data"
    },
    {
     "data": {
      "text/plain": [
       "tensor(151.4653, grad_fn=<ThAddBackward>)"
      ]
     },
     "metadata": {},
     "output_type": "display_data"
    },
    {
     "name": "stdout",
     "output_type": "stream",
     "text": [
      "+++++++++++++14++++++++++++++\n"
     ]
    },
    {
     "data": {
      "text/plain": [
       "torch.Size([10, 50004])"
      ]
     },
     "metadata": {},
     "output_type": "display_data"
    },
    {
     "data": {
      "text/plain": [
       "tensor([   5, 1351, 2017,  770,  623,  623, 1529,    7, 1336,    7])"
      ]
     },
     "metadata": {},
     "output_type": "display_data"
    },
    {
     "data": {
      "text/plain": [
       "tensor(162.3031, grad_fn=<ThAddBackward>)"
      ]
     },
     "metadata": {},
     "output_type": "display_data"
    },
    {
     "name": "stdout",
     "output_type": "stream",
     "text": [
      "+++++++++++++15++++++++++++++\n"
     ]
    },
    {
     "data": {
      "text/plain": [
       "torch.Size([10, 50004])"
      ]
     },
     "metadata": {},
     "output_type": "display_data"
    },
    {
     "data": {
      "text/plain": [
       "tensor([ 215,    5, 1336, 1351,  770,    5,    7,    5, 1351,   15])"
      ]
     },
     "metadata": {},
     "output_type": "display_data"
    },
    {
     "data": {
      "text/plain": [
       "tensor(173.1577, grad_fn=<ThAddBackward>)"
      ]
     },
     "metadata": {},
     "output_type": "display_data"
    },
    {
     "name": "stdout",
     "output_type": "stream",
     "text": [
      "+++++++++++++16++++++++++++++\n"
     ]
    },
    {
     "data": {
      "text/plain": [
       "torch.Size([10, 50004])"
      ]
     },
     "metadata": {},
     "output_type": "display_data"
    },
    {
     "data": {
      "text/plain": [
       "tensor([ 623,  215, 1351,  208, 1351, 1351,   15, 1670, 2017, 1307])"
      ]
     },
     "metadata": {},
     "output_type": "display_data"
    },
    {
     "data": {
      "text/plain": [
       "tensor(183.9357, grad_fn=<ThAddBackward>)"
      ]
     },
     "metadata": {},
     "output_type": "display_data"
    },
    {
     "name": "stdout",
     "output_type": "stream",
     "text": [
      "+++++++++++++17++++++++++++++\n"
     ]
    },
    {
     "data": {
      "text/plain": [
       "torch.Size([10, 50004])"
      ]
     },
     "metadata": {},
     "output_type": "display_data"
    },
    {
     "data": {
      "text/plain": [
       "tensor([1351,  208,  124,    7,  623, 1307, 1351,  623, 1351,  770])"
      ]
     },
     "metadata": {},
     "output_type": "display_data"
    },
    {
     "data": {
      "text/plain": [
       "tensor(194.7434, grad_fn=<ThAddBackward>)"
      ]
     },
     "metadata": {},
     "output_type": "display_data"
    },
    {
     "name": "stdout",
     "output_type": "stream",
     "text": [
      "+++++++++++++18++++++++++++++\n"
     ]
    },
    {
     "data": {
      "text/plain": [
       "torch.Size([10, 50004])"
      ]
     },
     "metadata": {},
     "output_type": "display_data"
    },
    {
     "data": {
      "text/plain": [
       "tensor([  7,   5, 623,   5,  31, 623, 623, 124,  15, 623])"
      ]
     },
     "metadata": {},
     "output_type": "display_data"
    },
    {
     "data": {
      "text/plain": [
       "tensor(205.5338, grad_fn=<ThAddBackward>)"
      ]
     },
     "metadata": {},
     "output_type": "display_data"
    },
    {
     "name": "stdout",
     "output_type": "stream",
     "text": [
      "+++++++++++++19++++++++++++++\n"
     ]
    },
    {
     "data": {
      "text/plain": [
       "torch.Size([10, 50004])"
      ]
     },
     "metadata": {},
     "output_type": "display_data"
    },
    {
     "data": {
      "text/plain": [
       "tensor([1559,   31, 1351,  215,   31,  215,    5, 1336,  623,   91])"
      ]
     },
     "metadata": {},
     "output_type": "display_data"
    },
    {
     "data": {
      "text/plain": [
       "tensor(216.3450, grad_fn=<ThAddBackward>)"
      ]
     },
     "metadata": {},
     "output_type": "display_data"
    },
    {
     "name": "stdout",
     "output_type": "stream",
     "text": [
      "+++++++++++++20++++++++++++++\n"
     ]
    },
    {
     "data": {
      "text/plain": [
       "torch.Size([10, 50004])"
      ]
     },
     "metadata": {},
     "output_type": "display_data"
    },
    {
     "data": {
      "text/plain": [
       "tensor([1336,   15, 1710,  623, 1336, 2017,  215, 1351, 1307,  149])"
      ]
     },
     "metadata": {},
     "output_type": "display_data"
    },
    {
     "data": {
      "text/plain": [
       "tensor(227.1494, grad_fn=<ThAddBackward>)"
      ]
     },
     "metadata": {},
     "output_type": "display_data"
    },
    {
     "name": "stdout",
     "output_type": "stream",
     "text": [
      "+++++++++++++21++++++++++++++\n"
     ]
    },
    {
     "data": {
      "text/plain": [
       "torch.Size([10, 50004])"
      ]
     },
     "metadata": {},
     "output_type": "display_data"
    },
    {
     "data": {
      "text/plain": [
       "tensor([1670, 1307, 1351,    5,  770, 1351,   15,  623,  215,  149])"
      ]
     },
     "metadata": {},
     "output_type": "display_data"
    },
    {
     "data": {
      "text/plain": [
       "tensor(237.9324, grad_fn=<ThAddBackward>)"
      ]
     },
     "metadata": {},
     "output_type": "display_data"
    },
    {
     "name": "stdout",
     "output_type": "stream",
     "text": [
      "+++++++++++++22++++++++++++++\n"
     ]
    },
    {
     "data": {
      "text/plain": [
       "torch.Size([10, 50004])"
      ]
     },
     "metadata": {},
     "output_type": "display_data"
    },
    {
     "data": {
      "text/plain": [
       "tensor([ 623, 1710, 1336, 1307, 2250, 1336, 1307,    5, 5175,  209])"
      ]
     },
     "metadata": {},
     "output_type": "display_data"
    },
    {
     "data": {
      "text/plain": [
       "tensor(248.7524, grad_fn=<ThAddBackward>)"
      ]
     },
     "metadata": {},
     "output_type": "display_data"
    },
    {
     "name": "stdout",
     "output_type": "stream",
     "text": [
      "+++++++++++++23++++++++++++++\n"
     ]
    },
    {
     "data": {
      "text/plain": [
       "torch.Size([10, 50004])"
      ]
     },
     "metadata": {},
     "output_type": "display_data"
    },
    {
     "data": {
      "text/plain": [
       "tensor([ 215,  770,  208,  215,    5,  124,   31, 1307, 2250, 2441])"
      ]
     },
     "metadata": {},
     "output_type": "display_data"
    },
    {
     "data": {
      "text/plain": [
       "tensor(259.5410, grad_fn=<ThAddBackward>)"
      ]
     },
     "metadata": {},
     "output_type": "display_data"
    },
    {
     "name": "stdout",
     "output_type": "stream",
     "text": [
      "+++++++++++++24++++++++++++++\n"
     ]
    },
    {
     "data": {
      "text/plain": [
       "torch.Size([10, 50004])"
      ]
     },
     "metadata": {},
     "output_type": "display_data"
    },
    {
     "data": {
      "text/plain": [
       "tensor([  15, 1336,  461,   31, 1307,    7, 2250,  215, 1336,    5])"
      ]
     },
     "metadata": {},
     "output_type": "display_data"
    },
    {
     "data": {
      "text/plain": [
       "tensor(270.2885, grad_fn=<ThAddBackward>)"
      ]
     },
     "metadata": {},
     "output_type": "display_data"
    },
    {
     "name": "stdout",
     "output_type": "stream",
     "text": [
      "+++++++++++++25++++++++++++++\n"
     ]
    },
    {
     "data": {
      "text/plain": [
       "torch.Size([10, 50004])"
      ]
     },
     "metadata": {},
     "output_type": "display_data"
    },
    {
     "data": {
      "text/plain": [
       "tensor([1307, 1559, 1336, 2250, 1710, 2250,  623,  770, 2441, 1307])"
      ]
     },
     "metadata": {},
     "output_type": "display_data"
    },
    {
     "data": {
      "text/plain": [
       "tensor(281.0934, grad_fn=<ThAddBackward>)"
      ]
     },
     "metadata": {},
     "output_type": "display_data"
    },
    {
     "name": "stdout",
     "output_type": "stream",
     "text": [
      "+++++++++++++26++++++++++++++\n"
     ]
    },
    {
     "data": {
      "text/plain": [
       "torch.Size([10, 50004])"
      ]
     },
     "metadata": {},
     "output_type": "display_data"
    },
    {
     "data": {
      "text/plain": [
       "tensor([  91, 1559, 1307,  623,   15, 1336, 1559, 1559, 2441,   31])"
      ]
     },
     "metadata": {},
     "output_type": "display_data"
    },
    {
     "data": {
      "text/plain": [
       "tensor(291.9171, grad_fn=<ThAddBackward>)"
      ]
     },
     "metadata": {},
     "output_type": "display_data"
    },
    {
     "name": "stdout",
     "output_type": "stream",
     "text": [
      "+++++++++++++27++++++++++++++\n"
     ]
    },
    {
     "data": {
      "text/plain": [
       "torch.Size([10, 50004])"
      ]
     },
     "metadata": {},
     "output_type": "display_data"
    },
    {
     "data": {
      "text/plain": [
       "tensor([ 149,  623,  770, 1043, 1307, 1351,    5,  623,  623,    7])"
      ]
     },
     "metadata": {},
     "output_type": "display_data"
    },
    {
     "data": {
      "text/plain": [
       "tensor(302.7193, grad_fn=<ThAddBackward>)"
      ]
     },
     "metadata": {},
     "output_type": "display_data"
    },
    {
     "name": "stdout",
     "output_type": "stream",
     "text": [
      "+++++++++++++28++++++++++++++\n"
     ]
    },
    {
     "data": {
      "text/plain": [
       "torch.Size([10, 50004])"
      ]
     },
     "metadata": {},
     "output_type": "display_data"
    },
    {
     "data": {
      "text/plain": [
       "tensor([  75, 1710,  623, 1559, 1710,   31,    7,    5,  215, 1336])"
      ]
     },
     "metadata": {},
     "output_type": "display_data"
    },
    {
     "data": {
      "text/plain": [
       "tensor(313.5751, grad_fn=<ThAddBackward>)"
      ]
     },
     "metadata": {},
     "output_type": "display_data"
    },
    {
     "name": "stdout",
     "output_type": "stream",
     "text": [
      "+++++++++++++29++++++++++++++\n"
     ]
    },
    {
     "data": {
      "text/plain": [
       "torch.Size([10, 50004])"
      ]
     },
     "metadata": {},
     "output_type": "display_data"
    },
    {
     "data": {
      "text/plain": [
       "tensor([ 211,  623, 1336,    5,   31,   31,   31, 1307,   15,  208])"
      ]
     },
     "metadata": {},
     "output_type": "display_data"
    },
    {
     "data": {
      "text/plain": [
       "tensor(324.3560, grad_fn=<ThAddBackward>)"
      ]
     },
     "metadata": {},
     "output_type": "display_data"
    },
    {
     "name": "stdout",
     "output_type": "stream",
     "text": [
      "+++++++++++++30++++++++++++++\n"
     ]
    },
    {
     "data": {
      "text/plain": [
       "torch.Size([10, 50004])"
      ]
     },
     "metadata": {},
     "output_type": "display_data"
    },
    {
     "data": {
      "text/plain": [
       "tensor([50002, 50002,     5,   770,  2250,   623,    91,   208,   215,    31])"
      ]
     },
     "metadata": {},
     "output_type": "display_data"
    },
    {
     "data": {
      "text/plain": [
       "tensor(335.2165, grad_fn=<ThAddBackward>)"
      ]
     },
     "metadata": {},
     "output_type": "display_data"
    },
    {
     "name": "stdout",
     "output_type": "stream",
     "text": [
      "+++++++++++++31++++++++++++++\n"
     ]
    },
    {
     "data": {
      "text/plain": [
       "torch.Size([10, 50004])"
      ]
     },
     "metadata": {},
     "output_type": "display_data"
    },
    {
     "data": {
      "text/plain": [
       "tensor([    0,     0,  1307,  1529,   623,  1351,  2976,   461,  2250, 50002])"
      ]
     },
     "metadata": {},
     "output_type": "display_data"
    },
    {
     "data": {
      "text/plain": [
       "tensor(346.0214, grad_fn=<ThAddBackward>)"
      ]
     },
     "metadata": {},
     "output_type": "display_data"
    },
    {
     "name": "stdout",
     "output_type": "stream",
     "text": [
      "+++++++++++++32++++++++++++++\n"
     ]
    },
    {
     "data": {
      "text/plain": [
       "torch.Size([10, 50004])"
      ]
     },
     "metadata": {},
     "output_type": "display_data"
    },
    {
     "data": {
      "text/plain": [
       "tensor([   0,    0,  215,  124, 2441,  124,  623, 2976,    5,    0])"
      ]
     },
     "metadata": {},
     "output_type": "display_data"
    },
    {
     "data": {
      "text/plain": [
       "tensor(356.8384, grad_fn=<ThAddBackward>)"
      ]
     },
     "metadata": {},
     "output_type": "display_data"
    },
    {
     "name": "stdout",
     "output_type": "stream",
     "text": [
      "+++++++++++++33++++++++++++++\n"
     ]
    },
    {
     "data": {
      "text/plain": [
       "torch.Size([10, 50004])"
      ]
     },
     "metadata": {},
     "output_type": "display_data"
    },
    {
     "data": {
      "text/plain": [
       "tensor([   0,    0, 1351,    5, 1336,   31,    5, 1336, 1307,    0])"
      ]
     },
     "metadata": {},
     "output_type": "display_data"
    },
    {
     "data": {
      "text/plain": [
       "tensor(367.6624, grad_fn=<ThAddBackward>)"
      ]
     },
     "metadata": {},
     "output_type": "display_data"
    },
    {
     "name": "stdout",
     "output_type": "stream",
     "text": [
      "+++++++++++++34++++++++++++++\n"
     ]
    },
    {
     "data": {
      "text/plain": [
       "torch.Size([10, 50004])"
      ]
     },
     "metadata": {},
     "output_type": "display_data"
    },
    {
     "data": {
      "text/plain": [
       "tensor([   0,    0,  623,    7, 1351, 1351, 1351,  208,  215,    0])"
      ]
     },
     "metadata": {},
     "output_type": "display_data"
    },
    {
     "data": {
      "text/plain": [
       "tensor(378.4536, grad_fn=<ThAddBackward>)"
      ]
     },
     "metadata": {},
     "output_type": "display_data"
    },
    {
     "name": "stdout",
     "output_type": "stream",
     "text": [
      "+++++++++++++35++++++++++++++\n"
     ]
    },
    {
     "data": {
      "text/plain": [
       "torch.Size([10, 50004])"
      ]
     },
     "metadata": {},
     "output_type": "display_data"
    },
    {
     "data": {
      "text/plain": [
       "tensor([   0,    0, 2441,    7, 1559,    5,    7, 1351, 1559,    0])"
      ]
     },
     "metadata": {},
     "output_type": "display_data"
    },
    {
     "data": {
      "text/plain": [
       "tensor(389.2600, grad_fn=<ThAddBackward>)"
      ]
     },
     "metadata": {},
     "output_type": "display_data"
    },
    {
     "name": "stdout",
     "output_type": "stream",
     "text": [
      "+++++++++++++36++++++++++++++\n"
     ]
    },
    {
     "data": {
      "text/plain": [
       "torch.Size([10, 50004])"
      ]
     },
     "metadata": {},
     "output_type": "display_data"
    },
    {
     "data": {
      "text/plain": [
       "tensor([    0,     0,   124, 50002,   215,  1670, 50002,  2017,   623,     0])"
      ]
     },
     "metadata": {},
     "output_type": "display_data"
    },
    {
     "data": {
      "text/plain": [
       "tensor(400.1111, grad_fn=<ThAddBackward>)"
      ]
     },
     "metadata": {},
     "output_type": "display_data"
    },
    {
     "name": "stdout",
     "output_type": "stream",
     "text": [
      "+++++++++++++37++++++++++++++\n"
     ]
    },
    {
     "data": {
      "text/plain": [
       "torch.Size([10, 50004])"
      ]
     },
     "metadata": {},
     "output_type": "display_data"
    },
    {
     "data": {
      "text/plain": [
       "tensor([    0,     0,     5,     0, 50002,   623,     0,    15,    31,     0])"
      ]
     },
     "metadata": {},
     "output_type": "display_data"
    },
    {
     "data": {
      "text/plain": [
       "tensor(410.9999, grad_fn=<ThAddBackward>)"
      ]
     },
     "metadata": {},
     "output_type": "display_data"
    },
    {
     "name": "stdout",
     "output_type": "stream",
     "text": [
      "+++++++++++++38++++++++++++++\n"
     ]
    },
    {
     "data": {
      "text/plain": [
       "torch.Size([10, 50004])"
      ]
     },
     "metadata": {},
     "output_type": "display_data"
    },
    {
     "data": {
      "text/plain": [
       "tensor([   0,    0,    7,    0,    0, 1559,    0, 1307, 2250,    0])"
      ]
     },
     "metadata": {},
     "output_type": "display_data"
    },
    {
     "data": {
      "text/plain": [
       "tensor(421.8301, grad_fn=<ThAddBackward>)"
      ]
     },
     "metadata": {},
     "output_type": "display_data"
    },
    {
     "name": "stdout",
     "output_type": "stream",
     "text": [
      "+++++++++++++39++++++++++++++\n"
     ]
    },
    {
     "data": {
      "text/plain": [
       "torch.Size([10, 50004])"
      ]
     },
     "metadata": {},
     "output_type": "display_data"
    },
    {
     "data": {
      "text/plain": [
       "tensor([   0,    0, 1336,    0,    0, 1559,    0,    5,  623,    0])"
      ]
     },
     "metadata": {},
     "output_type": "display_data"
    },
    {
     "data": {
      "text/plain": [
       "tensor(432.6760, grad_fn=<ThAddBackward>)"
      ]
     },
     "metadata": {},
     "output_type": "display_data"
    }
   ],
   "source": [
    "decoder = Decoder()\n",
    "outputs = []\n",
    "# simply test the time dimension \n",
    "# feature 3 shoud be time first\n",
    "# features_4 = features_4.permute([1, 0])\n",
    "loss = 0\n",
    "# display(features_3.squeeze_(1).permute([1, 0]))\n",
    "critertion = nn.NLLLoss(ignore_index=0)\n",
    "target = features_4\n",
    "for di in range(config.max_dec_steps):\n",
    "    X = features_3[di]\n",
    "    output, hidden = decoder(X, hidden)\n",
    "    # here to implement the loss wrt target\n",
    "    print(\"+++++++++++++{}++++++++++++++\".format(di))\n",
    "    display(output.shape)\n",
    "    display(target[di])\n",
    "    loss += critertion(output, target[di])\n",
    "    display(loss)\n"
   ]
  },
  {
   "cell_type": "code",
   "execution_count": 10,
   "metadata": {},
   "outputs": [
    {
     "data": {
      "text/plain": [
       "14583"
      ]
     },
     "execution_count": 10,
     "metadata": {},
     "output_type": "execute_result"
    }
   ],
   "source": [
    "from torch.utils.data import DataLoader\n",
    "\n",
    "train_data = DataLoader(sum_dataset, shuffle=True, batch_size=10)\n",
    "len(train_data)"
   ]
  },
  {
   "cell_type": "code",
   "execution_count": 11,
   "metadata": {},
   "outputs": [
    {
     "name": "stderr",
     "output_type": "stream",
     "text": [
      "  3%|▎         | 455/14583 [00:00<00:06, 2268.89it/s]"
     ]
    },
    {
     "name": "stdout",
     "output_type": "stream",
     "text": [
      "one batch finished.\n",
      "one batch finished.\n",
      "one batch finished.\n",
      "one batch finished.\n",
      "one batch finished.\n"
     ]
    },
    {
     "name": "stderr",
     "output_type": "stream",
     "text": [
      "  6%|▋         | 947/14583 [00:00<00:05, 2360.33it/s]"
     ]
    },
    {
     "name": "stdout",
     "output_type": "stream",
     "text": [
      "one batch finished.\n",
      "one batch finished.\n",
      "one batch finished.\n",
      "one batch finished.\n",
      "one batch finished.\n"
     ]
    },
    {
     "name": "stderr",
     "output_type": "stream",
     "text": [
      " 10%|▉         | 1454/14583 [00:00<00:05, 2416.65it/s]"
     ]
    },
    {
     "name": "stdout",
     "output_type": "stream",
     "text": [
      "one batch finished.\n",
      "one batch finished.\n",
      "one batch finished.\n",
      "one batch finished.\n",
      "one batch finished.\n"
     ]
    },
    {
     "name": "stderr",
     "output_type": "stream",
     "text": [
      " 13%|█▎        | 1961/14583 [00:00<00:05, 2444.61it/s]"
     ]
    },
    {
     "name": "stdout",
     "output_type": "stream",
     "text": [
      "one batch finished.\n",
      "one batch finished.\n",
      "one batch finished.\n",
      "one batch finished.\n",
      "one batch finished.\n",
      "one batch finished.\n"
     ]
    },
    {
     "name": "stderr",
     "output_type": "stream",
     "text": [
      " 17%|█▋        | 2506/14583 [00:01<00:04, 2499.43it/s]"
     ]
    },
    {
     "name": "stdout",
     "output_type": "stream",
     "text": [
      "one batch finished.\n",
      "one batch finished.\n",
      "one batch finished.\n",
      "one batch finished.\n",
      "one batch finished.\n",
      "one batch finished.\n"
     ]
    },
    {
     "name": "stderr",
     "output_type": "stream",
     "text": [
      " 21%|██        | 3032/14583 [00:01<00:04, 2490.27it/s]"
     ]
    },
    {
     "name": "stdout",
     "output_type": "stream",
     "text": [
      "one batch finished.\n",
      "one batch finished.\n",
      "one batch finished.\n",
      "one batch finished.\n",
      "one batch finished.\n"
     ]
    },
    {
     "name": "stderr",
     "output_type": "stream",
     "text": [
      " 24%|██▍       | 3555/14583 [00:01<00:04, 2449.34it/s]"
     ]
    },
    {
     "name": "stdout",
     "output_type": "stream",
     "text": [
      "one batch finished.\n",
      "one batch finished.\n",
      "one batch finished.\n",
      "one batch finished.\n",
      "one batch finished.\n"
     ]
    },
    {
     "name": "stderr",
     "output_type": "stream",
     "text": [
      " 28%|██▊       | 4055/14583 [00:01<00:04, 2408.26it/s]"
     ]
    },
    {
     "name": "stdout",
     "output_type": "stream",
     "text": [
      "one batch finished.\n",
      "one batch finished.\n",
      "one batch finished.\n",
      "one batch finished.\n",
      "one batch finished.\n"
     ]
    },
    {
     "name": "stderr",
     "output_type": "stream",
     "text": [
      " 32%|███▏      | 4604/14583 [00:01<00:04, 2443.44it/s]"
     ]
    },
    {
     "name": "stdout",
     "output_type": "stream",
     "text": [
      "one batch finished.\n",
      "one batch finished.\n",
      "one batch finished.\n",
      "one batch finished.\n",
      "one batch finished.\n",
      "one batch finished.\n"
     ]
    },
    {
     "name": "stderr",
     "output_type": "stream",
     "text": [
      " 35%|███▌      | 5142/14583 [00:02<00:03, 2466.94it/s]"
     ]
    },
    {
     "name": "stdout",
     "output_type": "stream",
     "text": [
      "one batch finished.\n",
      "one batch finished.\n",
      "one batch finished.\n",
      "one batch finished.\n",
      "one batch finished.\n",
      "one batch finished.\n"
     ]
    },
    {
     "name": "stderr",
     "output_type": "stream",
     "text": [
      " 39%|███▉      | 5680/14583 [00:02<00:03, 2471.23it/s]"
     ]
    },
    {
     "name": "stdout",
     "output_type": "stream",
     "text": [
      "one batch finished.\n",
      "one batch finished.\n",
      "one batch finished.\n",
      "one batch finished.\n",
      "one batch finished.\n",
      "one batch finished.\n"
     ]
    },
    {
     "name": "stderr",
     "output_type": "stream",
     "text": [
      " 45%|████▍     | 6496/14583 [00:02<00:03, 2499.48it/s]"
     ]
    },
    {
     "name": "stdout",
     "output_type": "stream",
     "text": [
      "one batch finished.\n",
      "one batch finished.\n",
      "one batch finished.\n",
      "one batch finished.\n",
      "one batch finished.\n",
      "one batch finished.\n"
     ]
    },
    {
     "name": "stderr",
     "output_type": "stream",
     "text": [
      " 48%|████▊     | 7047/14583 [00:02<00:02, 2517.26it/s]"
     ]
    },
    {
     "name": "stdout",
     "output_type": "stream",
     "text": [
      "one batch finished.\n",
      "one batch finished.\n",
      "one batch finished.\n",
      "one batch finished.\n",
      "one batch finished.\n",
      "one batch finished.\n"
     ]
    },
    {
     "name": "stderr",
     "output_type": "stream",
     "text": [
      " 52%|█████▏    | 7589/14583 [00:03<00:02, 2518.11it/s]"
     ]
    },
    {
     "name": "stdout",
     "output_type": "stream",
     "text": [
      "one batch finished.\n",
      "one batch finished.\n",
      "one batch finished.\n",
      "one batch finished.\n",
      "one batch finished.\n"
     ]
    },
    {
     "name": "stderr",
     "output_type": "stream",
     "text": [
      " 56%|█████▌    | 8126/14583 [00:03<00:02, 2507.97it/s]"
     ]
    },
    {
     "name": "stdout",
     "output_type": "stream",
     "text": [
      "one batch finished.\n",
      "one batch finished.\n",
      "one batch finished.\n",
      "one batch finished.\n",
      "one batch finished.\n",
      "one batch finished.\n"
     ]
    },
    {
     "name": "stderr",
     "output_type": "stream",
     "text": [
      " 59%|█████▉    | 8662/14583 [00:03<00:02, 2517.81it/s]"
     ]
    },
    {
     "name": "stdout",
     "output_type": "stream",
     "text": [
      "one batch finished.\n",
      "one batch finished.\n",
      "one batch finished.\n",
      "one batch finished.\n",
      "one batch finished.\n",
      "one batch finished.\n"
     ]
    },
    {
     "name": "stderr",
     "output_type": "stream",
     "text": [
      " 63%|██████▎   | 9201/14583 [00:03<00:02, 2527.17it/s]"
     ]
    },
    {
     "name": "stdout",
     "output_type": "stream",
     "text": [
      "one batch finished.\n",
      "one batch finished.\n",
      "one batch finished.\n",
      "one batch finished.\n",
      "one batch finished.\n",
      "one batch finished.\n"
     ]
    },
    {
     "name": "stderr",
     "output_type": "stream",
     "text": [
      " 69%|██████▉   | 10123/14583 [00:03<00:01, 2566.33it/s]"
     ]
    },
    {
     "name": "stdout",
     "output_type": "stream",
     "text": [
      "one batch finished.\n",
      "one batch finished.\n",
      "one batch finished.\n",
      "one batch finished.\n",
      "one batch finished.\n",
      "one batch finished.\n",
      "one batch finished.\n"
     ]
    },
    {
     "name": "stderr",
     "output_type": "stream",
     "text": [
      " 74%|███████▍  | 10772/14583 [00:04<00:01, 2598.90it/s]"
     ]
    },
    {
     "name": "stdout",
     "output_type": "stream",
     "text": [
      "one batch finished.\n",
      "one batch finished.\n",
      "one batch finished.\n",
      "one batch finished.\n",
      "one batch finished.\n",
      "one batch finished.\n",
      "one batch finished.\n"
     ]
    },
    {
     "name": "stderr",
     "output_type": "stream",
     "text": [
      " 78%|███████▊  | 11408/14583 [00:04<00:01, 2605.62it/s]"
     ]
    },
    {
     "name": "stdout",
     "output_type": "stream",
     "text": [
      "one batch finished.\n",
      "one batch finished.\n",
      "one batch finished.\n",
      "one batch finished.\n",
      "one batch finished.\n",
      "one batch finished.\n"
     ]
    },
    {
     "name": "stderr",
     "output_type": "stream",
     "text": [
      " 83%|████████▎ | 12088/14583 [00:04<00:00, 2640.15it/s]"
     ]
    },
    {
     "name": "stdout",
     "output_type": "stream",
     "text": [
      "one batch finished.\n",
      "one batch finished.\n",
      "one batch finished.\n",
      "one batch finished.\n",
      "one batch finished.\n",
      "one batch finished.\n",
      "one batch finished.\n"
     ]
    },
    {
     "name": "stderr",
     "output_type": "stream",
     "text": [
      " 87%|████████▋ | 12719/14583 [00:04<00:00, 2654.88it/s]"
     ]
    },
    {
     "name": "stdout",
     "output_type": "stream",
     "text": [
      "one batch finished.\n",
      "one batch finished.\n",
      "one batch finished.\n",
      "one batch finished.\n",
      "one batch finished.\n",
      "one batch finished.\n",
      "one batch finished.\n"
     ]
    },
    {
     "name": "stderr",
     "output_type": "stream",
     "text": [
      " 92%|█████████▏| 13367/14583 [00:04<00:00, 2678.15it/s]"
     ]
    },
    {
     "name": "stdout",
     "output_type": "stream",
     "text": [
      "one batch finished.\n",
      "one batch finished.\n",
      "one batch finished.\n",
      "one batch finished.\n",
      "one batch finished.\n",
      "one batch finished.\n",
      "one batch finished.\n"
     ]
    },
    {
     "name": "stderr",
     "output_type": "stream",
     "text": [
      " 96%|█████████▋| 14039/14583 [00:05<00:00, 2704.27it/s]"
     ]
    },
    {
     "name": "stdout",
     "output_type": "stream",
     "text": [
      "one batch finished.\n",
      "one batch finished.\n",
      "one batch finished.\n",
      "one batch finished.\n",
      "one batch finished.\n",
      "one batch finished.\n",
      "one batch finished.\n"
     ]
    },
    {
     "name": "stderr",
     "output_type": "stream",
     "text": [
      "100%|██████████| 14583/14583 [00:05<00:00, 2720.30it/s]"
     ]
    },
    {
     "name": "stdout",
     "output_type": "stream",
     "text": [
      "one batch finished.\n",
      "one batch finished.\n",
      "one batch finished.\n"
     ]
    },
    {
     "name": "stderr",
     "output_type": "stream",
     "text": [
      "\n"
     ]
    }
   ],
   "source": [
    "for i_batch, sample_batched in enumerate(tqdm(train_data)):\n",
    "    if i_batch % 100 == 0:\n",
    "        print(\"one batch finished.\")"
   ]
  },
  {
   "cell_type": "code",
   "execution_count": 12,
   "metadata": {},
   "outputs": [
    {
     "data": {
      "text/plain": [
       "torch.Size([10, 600])"
      ]
     },
     "metadata": {},
     "output_type": "display_data"
    },
    {
     "data": {
      "text/plain": [
       "torch.Size([10])"
      ]
     },
     "metadata": {},
     "output_type": "display_data"
    },
    {
     "data": {
      "text/plain": [
       "torch.Size([40, 10])"
      ]
     },
     "metadata": {},
     "output_type": "display_data"
    },
    {
     "data": {
      "text/plain": [
       "torch.Size([40, 10])"
      ]
     },
     "metadata": {},
     "output_type": "display_data"
    }
   ],
   "source": [
    "display(features_1.shape)\n",
    "display(features_2.shape)\n",
    "display(features_3.shape)\n",
    "display(features_4.shape)"
   ]
  }
 ],
 "metadata": {
  "kernelspec": {
   "display_name": "Python 3",
   "language": "python",
   "name": "python3"
  },
  "language_info": {
   "codemirror_mode": {
    "name": "ipython",
    "version": 3
   },
   "file_extension": ".py",
   "mimetype": "text/x-python",
   "name": "python",
   "nbconvert_exporter": "python",
   "pygments_lexer": "ipython3",
   "version": "3.6.5"
  }
 },
 "nbformat": 4,
 "nbformat_minor": 2
}
