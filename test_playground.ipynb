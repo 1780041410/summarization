{
 "cells": [
  {
   "cell_type": "code",
   "execution_count": 1,
   "metadata": {},
   "outputs": [
    {
     "name": "stderr",
     "output_type": "stream",
     "text": [
      "/home/chenxiang/anaconda3/lib/python3.6/site-packages/h5py/__init__.py:36: FutureWarning: Conversion of the second argument of issubdtype from `float` to `np.floating` is deprecated. In future, it will be treated as `np.float64 == np.dtype(float).type`.\n",
      "  from ._conv import register_converters as _register_converters\n"
     ]
    }
   ],
   "source": [
    "import torch\n",
    "import torch.nn as nn\n",
    "import torch.nn.functional as F\n",
    "import numpy as np\n",
    "from IPython.display import display\n",
    "import pandas as pd\n",
    "import h5py\n",
    "import os\n",
    "# to load data from the test file\n",
    "from utils.create_datasets import SumDatasets\n",
    "# To load the data sets here, also we will create some examples to explore torch\n",
    "data_dir = '../data/'\n",
    "from utils import config\n",
    "import pickle"
   ]
  },
  {
   "cell_type": "code",
   "execution_count": 2,
   "metadata": {},
   "outputs": [
    {
     "name": "stdout",
     "output_type": "stream",
     "text": [
      "The shape of the features_1 is (145821, 600)\n",
      "The shape of the features_2 is (145821,)\n",
      "The shape of the features_3 is (145821, 40)\n"
     ]
    }
   ],
   "source": [
    "sum_dataset = SumDatasets(os.path.join(data_dir, 'features-600-40_v2.hdf5'))"
   ]
  },
  {
   "cell_type": "code",
   "execution_count": 3,
   "metadata": {},
   "outputs": [
    {
     "ename": "AttributeError",
     "evalue": "'numpy.ndarray' object has no attribute 'squeeze_'",
     "output_type": "error",
     "traceback": [
      "\u001b[0;31m---------------------------------------------------------------------------\u001b[0m",
      "\u001b[0;31mAttributeError\u001b[0m                            Traceback (most recent call last)",
      "\u001b[0;32m<ipython-input-3-26cc5e88ae9a>\u001b[0m in \u001b[0;36m<module>\u001b[0;34m()\u001b[0m\n\u001b[0;32m----> 1\u001b[0;31m \u001b[0mfeatures_1\u001b[0m\u001b[0;34m,\u001b[0m \u001b[0mfeatures_2\u001b[0m\u001b[0;34m,\u001b[0m \u001b[0mfeatures_3\u001b[0m\u001b[0;34m,\u001b[0m \u001b[0mfeatures_4\u001b[0m \u001b[0;34m=\u001b[0m \u001b[0msum_dataset\u001b[0m\u001b[0;34m[\u001b[0m\u001b[0;36m1\u001b[0m\u001b[0;34m:\u001b[0m\u001b[0;36m10\u001b[0m\u001b[0;34m]\u001b[0m \u001b[0;31m# assume we have a batch data of 20 items.\u001b[0m\u001b[0;34m\u001b[0m\u001b[0m\n\u001b[0m\u001b[1;32m      2\u001b[0m \u001b[0mdisplay\u001b[0m\u001b[0;34m(\u001b[0m\u001b[0mfeatures_2\u001b[0m\u001b[0;34m)\u001b[0m\u001b[0;34m\u001b[0m\u001b[0m\n\u001b[1;32m      3\u001b[0m \u001b[0mdisplay\u001b[0m\u001b[0;34m(\u001b[0m\u001b[0mfeatures_1\u001b[0m\u001b[0;34m)\u001b[0m\u001b[0;34m\u001b[0m\u001b[0m\n",
      "\u001b[0;32m/data0/chenxiang/Sep/bytecup-2018/bytecup_competition/summarization/utils/create_datasets.py\u001b[0m in \u001b[0;36m__getitem__\u001b[0;34m(self, index)\u001b[0m\n\u001b[1;32m    323\u001b[0m         \u001b[0mfeatures_1\u001b[0m\u001b[0;34m,\u001b[0m \u001b[0mfeatures_2\u001b[0m \u001b[0;34m=\u001b[0m \u001b[0mself\u001b[0m\u001b[0;34m.\u001b[0m\u001b[0mfeatures_1\u001b[0m\u001b[0;34m[\u001b[0m\u001b[0mindex\u001b[0m\u001b[0;34m]\u001b[0m\u001b[0;34m,\u001b[0m \u001b[0mself\u001b[0m\u001b[0;34m.\u001b[0m\u001b[0mfeatures_2\u001b[0m\u001b[0;34m[\u001b[0m\u001b[0mindex\u001b[0m\u001b[0;34m]\u001b[0m\u001b[0;34m\u001b[0m\u001b[0m\n\u001b[1;32m    324\u001b[0m         \u001b[0mfeatures_3\u001b[0m\u001b[0;34m,\u001b[0m \u001b[0mfeatures_4\u001b[0m \u001b[0;34m=\u001b[0m \u001b[0mself\u001b[0m\u001b[0;34m.\u001b[0m\u001b[0mfeatures_3\u001b[0m\u001b[0;34m[\u001b[0m\u001b[0mindex\u001b[0m\u001b[0;34m]\u001b[0m\u001b[0;34m,\u001b[0m \u001b[0mself\u001b[0m\u001b[0;34m.\u001b[0m\u001b[0mfeatures_4\u001b[0m\u001b[0;34m[\u001b[0m\u001b[0mindex\u001b[0m\u001b[0;34m]\u001b[0m\u001b[0;34m\u001b[0m\u001b[0m\n\u001b[0;32m--> 325\u001b[0;31m         \u001b[0mfeatures_2\u001b[0m\u001b[0;34m.\u001b[0m\u001b[0msqueeze_\u001b[0m\u001b[0;34m(\u001b[0m\u001b[0mdim\u001b[0m\u001b[0;34m=\u001b[0m\u001b[0;36m1\u001b[0m\u001b[0;34m)\u001b[0m\u001b[0;34m\u001b[0m\u001b[0m\n\u001b[0m\u001b[1;32m    326\u001b[0m         \u001b[0;31m# convert to torch datasets\u001b[0m\u001b[0;34m\u001b[0m\u001b[0;34m\u001b[0m\u001b[0m\n\u001b[1;32m    327\u001b[0m         \u001b[0mfeatures_1\u001b[0m\u001b[0;34m,\u001b[0m \u001b[0mfeatures_2\u001b[0m \u001b[0;34m=\u001b[0m \u001b[0mtorch\u001b[0m\u001b[0;34m.\u001b[0m\u001b[0mfrom_numpy\u001b[0m\u001b[0;34m(\u001b[0m\u001b[0mfeatures_1\u001b[0m\u001b[0;34m)\u001b[0m\u001b[0;34m.\u001b[0m\u001b[0mlong\u001b[0m\u001b[0;34m(\u001b[0m\u001b[0;34m)\u001b[0m\u001b[0;34m,\u001b[0m \u001b[0mtorch\u001b[0m\u001b[0;34m.\u001b[0m\u001b[0mfrom_numpy\u001b[0m\u001b[0;34m(\u001b[0m\u001b[0mfeatures_2\u001b[0m\u001b[0;34m)\u001b[0m\u001b[0;34m.\u001b[0m\u001b[0mlong\u001b[0m\u001b[0;34m(\u001b[0m\u001b[0;34m)\u001b[0m\u001b[0;34m\u001b[0m\u001b[0m\n",
      "\u001b[0;31mAttributeError\u001b[0m: 'numpy.ndarray' object has no attribute 'squeeze_'"
     ]
    }
   ],
   "source": [
    "features_1, features_2, features_3, features_4 = sum_dataset[1:10] # assume we have a batch data of 20 items.\n",
    "display(features_2)\n",
    "display(features_1)"
   ]
  },
  {
   "cell_type": "code",
   "execution_count": 9,
   "metadata": {},
   "outputs": [],
   "source": [
    "\n",
    "batch_size = features_1.size(0)\n",
    "if batch_size == 1:\n",
    "    pass\n",
    "else:\n",
    "    sorted_length, sorted_idx = features_2.sort()  # sort will return both the ascending sorted value and also the sorted i    ndex\n",
    "    reverse_idx = torch.linspace(batch_size - 1, 0, batch_size).long()  # this will contain the batch_size-1\n",
    "    sorted_length, sorted_idx = sorted_length[reverse_idx], sorted_idx[reverse_idx]\n",
    "    features_1 = features_1[sorted_idx]\n",
    "    features_2 = features_2[sorted_idx]\n",
    "    features_3 = features_3[sorted_idx]\n",
    "    features_4 = features_4[sorted_idx]\n"
   ]
  },
  {
   "cell_type": "code",
   "execution_count": 19,
   "metadata": {},
   "outputs": [
    {
     "data": {
      "text/plain": [
       "tensor([600, 600, 600, 600, 600, 600, 600, 436, 600])"
      ]
     },
     "metadata": {},
     "output_type": "display_data"
    },
    {
     "data": {
      "text/plain": [
       "tensor([600, 600, 600, 600, 600, 600, 600, 600, 436])"
      ]
     },
     "metadata": {},
     "output_type": "display_data"
    }
   ],
   "source": [
    "display(features_2)\n",
    "sorted_length, sorted_idx = features_2.sort()\n",
    "reverse_idx = torch.linspace(batch_size - 1, 0, batch_size).long()\n",
    "sorted_length, sorted_idx = sorted_length[reverse_idx], sorted_idx[reverse_idx]\n",
    "display(sorted_length)"
   ]
  },
  {
   "cell_type": "code",
   "execution_count": 15,
   "metadata": {},
   "outputs": [
    {
     "data": {
      "text/html": [
       "<div>\n",
       "<style scoped>\n",
       "    .dataframe tbody tr th:only-of-type {\n",
       "        vertical-align: middle;\n",
       "    }\n",
       "\n",
       "    .dataframe tbody tr th {\n",
       "        vertical-align: top;\n",
       "    }\n",
       "\n",
       "    .dataframe thead th {\n",
       "        text-align: right;\n",
       "    }\n",
       "</style>\n",
       "<table border=\"1\" class=\"dataframe\">\n",
       "  <thead>\n",
       "    <tr style=\"text-align: right;\">\n",
       "      <th></th>\n",
       "      <th>id</th>\n",
       "      <th>content</th>\n",
       "      <th>title</th>\n",
       "      <th>content_len</th>\n",
       "    </tr>\n",
       "  </thead>\n",
       "  <tbody>\n",
       "    <tr>\n",
       "      <th>0</th>\n",
       "      <td>1</td>\n",
       "      <td>This was the year that felt like 50 years. We ...</td>\n",
       "      <td>21 Stories Our Readers Loved in 2017</td>\n",
       "      <td>4142</td>\n",
       "    </tr>\n",
       "    <tr>\n",
       "      <th>1</th>\n",
       "      <td>2</td>\n",
       "      <td>Gary Vaynerchuk once told a 20 year old Taylor...</td>\n",
       "      <td>What To Do After Graduating College</td>\n",
       "      <td>2054</td>\n",
       "    </tr>\n",
       "    <tr>\n",
       "      <th>2</th>\n",
       "      <td>3</td>\n",
       "      <td>On this episode of Recode Decode, hosted by Ka...</td>\n",
       "      <td>Full transcript: Former Groupon CEO Andrew Mas...</td>\n",
       "      <td>11679</td>\n",
       "    </tr>\n",
       "    <tr>\n",
       "      <th>3</th>\n",
       "      <td>4</td>\n",
       "      <td>Today we are going to talk about the Albigensi...</td>\n",
       "      <td>The Albigensian Crusade And The Black Mass</td>\n",
       "      <td>992</td>\n",
       "    </tr>\n",
       "    <tr>\n",
       "      <th>4</th>\n",
       "      <td>5</td>\n",
       "      <td>IntroductionThe more you want to impact the re...</td>\n",
       "      <td>The Surprising Secret To Changing The World</td>\n",
       "      <td>5153</td>\n",
       "    </tr>\n",
       "    <tr>\n",
       "      <th>5</th>\n",
       "      <td>6</td>\n",
       "      <td>I began my short term (sometimes business rela...</td>\n",
       "      <td>Five Things I’ve Learned from Short-Term Trave...</td>\n",
       "      <td>866</td>\n",
       "    </tr>\n",
       "    <tr>\n",
       "      <th>6</th>\n",
       "      <td>7</td>\n",
       "      <td>Either I’ve become way better at choosing whic...</td>\n",
       "      <td>Influential books I read in the last 2 years</td>\n",
       "      <td>2993</td>\n",
       "    </tr>\n",
       "    <tr>\n",
       "      <th>7</th>\n",
       "      <td>8</td>\n",
       "      <td>You can feel it: 2018 is the year you finally ...</td>\n",
       "      <td>How to spend less, save more, and clean up you...</td>\n",
       "      <td>1617</td>\n",
       "    </tr>\n",
       "    <tr>\n",
       "      <th>8</th>\n",
       "      <td>9</td>\n",
       "      <td>U.S. Soccer Federation president Sunil Gulati ...</td>\n",
       "      <td>Face of US Soccer since 2006 wants out</td>\n",
       "      <td>421</td>\n",
       "    </tr>\n",
       "    <tr>\n",
       "      <th>9</th>\n",
       "      <td>10</td>\n",
       "      <td>When things get tough or simply flat, many peo...</td>\n",
       "      <td>Leaving Google for Friendz: how we did handle ...</td>\n",
       "      <td>1277</td>\n",
       "    </tr>\n",
       "    <tr>\n",
       "      <th>10</th>\n",
       "      <td>11</td>\n",
       "      <td>Germany, Sweden, Denmark, Norway, Finland are ...</td>\n",
       "      <td>India: How to deliver free high quality engine...</td>\n",
       "      <td>1548</td>\n",
       "    </tr>\n",
       "    <tr>\n",
       "      <th>11</th>\n",
       "      <td>12</td>\n",
       "      <td>I have been fortunate enough to learn so much ...</td>\n",
       "      <td>10 Life Lessons I Have Learned Before Turning 18</td>\n",
       "      <td>1461</td>\n",
       "    </tr>\n",
       "    <tr>\n",
       "      <th>12</th>\n",
       "      <td>13</td>\n",
       "      <td>The most comprehensive list on the internet. Y...</td>\n",
       "      <td>The A-Z Glossary for Marketers</td>\n",
       "      <td>5973</td>\n",
       "    </tr>\n",
       "    <tr>\n",
       "      <th>13</th>\n",
       "      <td>14</td>\n",
       "      <td>For the last year or so, I’ve been struggling ...</td>\n",
       "      <td>The Light that Casts the Shadow</td>\n",
       "      <td>2030</td>\n",
       "    </tr>\n",
       "    <tr>\n",
       "      <th>14</th>\n",
       "      <td>15</td>\n",
       "      <td>Of Bonaventure, Black Holes and Whitehead (Par...</td>\n",
       "      <td>Of Bonaventure, Black Holes and Whitehead</td>\n",
       "      <td>916</td>\n",
       "    </tr>\n",
       "    <tr>\n",
       "      <th>15</th>\n",
       "      <td>16</td>\n",
       "      <td>We want to know the magic formula, the potion ...</td>\n",
       "      <td>Jimmy Garoppolo Begins Bright Future With 49ers</td>\n",
       "      <td>2083</td>\n",
       "    </tr>\n",
       "    <tr>\n",
       "      <th>16</th>\n",
       "      <td>17</td>\n",
       "      <td>(Credit: Getty/AP/Salon)Is he the goofball acc...</td>\n",
       "      <td>One year, many Trumps: 2017’s 10 best theories...</td>\n",
       "      <td>3356</td>\n",
       "    </tr>\n",
       "    <tr>\n",
       "      <th>17</th>\n",
       "      <td>18</td>\n",
       "      <td>In the past months, I’d launched a number of w...</td>\n",
       "      <td>Ask Me Anything: Team Development pt 2</td>\n",
       "      <td>1227</td>\n",
       "    </tr>\n",
       "    <tr>\n",
       "      <th>18</th>\n",
       "      <td>19</td>\n",
       "      <td>Business Model Generation (Alexander Osterwald...</td>\n",
       "      <td>Business Model Generation (Alexander Osterwald...</td>\n",
       "      <td>1828</td>\n",
       "    </tr>\n",
       "    <tr>\n",
       "      <th>19</th>\n",
       "      <td>20</td>\n",
       "      <td>Cuba's Brad Pitt asks me to dance.    This is ...</td>\n",
       "      <td>Cuba's Wild Side</td>\n",
       "      <td>1772</td>\n",
       "    </tr>\n",
       "  </tbody>\n",
       "</table>\n",
       "</div>"
      ],
      "text/plain": [
       "    id                                            content  \\\n",
       "0    1  This was the year that felt like 50 years. We ...   \n",
       "1    2  Gary Vaynerchuk once told a 20 year old Taylor...   \n",
       "2    3  On this episode of Recode Decode, hosted by Ka...   \n",
       "3    4  Today we are going to talk about the Albigensi...   \n",
       "4    5  IntroductionThe more you want to impact the re...   \n",
       "5    6  I began my short term (sometimes business rela...   \n",
       "6    7  Either I’ve become way better at choosing whic...   \n",
       "7    8  You can feel it: 2018 is the year you finally ...   \n",
       "8    9  U.S. Soccer Federation president Sunil Gulati ...   \n",
       "9   10  When things get tough or simply flat, many peo...   \n",
       "10  11  Germany, Sweden, Denmark, Norway, Finland are ...   \n",
       "11  12  I have been fortunate enough to learn so much ...   \n",
       "12  13  The most comprehensive list on the internet. Y...   \n",
       "13  14  For the last year or so, I’ve been struggling ...   \n",
       "14  15  Of Bonaventure, Black Holes and Whitehead (Par...   \n",
       "15  16  We want to know the magic formula, the potion ...   \n",
       "16  17  (Credit: Getty/AP/Salon)Is he the goofball acc...   \n",
       "17  18  In the past months, I’d launched a number of w...   \n",
       "18  19  Business Model Generation (Alexander Osterwald...   \n",
       "19  20  Cuba's Brad Pitt asks me to dance.    This is ...   \n",
       "\n",
       "                                                title  content_len  \n",
       "0                21 Stories Our Readers Loved in 2017         4142  \n",
       "1                 What To Do After Graduating College         2054  \n",
       "2   Full transcript: Former Groupon CEO Andrew Mas...        11679  \n",
       "3          The Albigensian Crusade And The Black Mass          992  \n",
       "4         The Surprising Secret To Changing The World         5153  \n",
       "5   Five Things I’ve Learned from Short-Term Trave...          866  \n",
       "6        Influential books I read in the last 2 years         2993  \n",
       "7   How to spend less, save more, and clean up you...         1617  \n",
       "8              Face of US Soccer since 2006 wants out          421  \n",
       "9   Leaving Google for Friendz: how we did handle ...         1277  \n",
       "10  India: How to deliver free high quality engine...         1548  \n",
       "11   10 Life Lessons I Have Learned Before Turning 18         1461  \n",
       "12                     The A-Z Glossary for Marketers         5973  \n",
       "13                    The Light that Casts the Shadow         2030  \n",
       "14          Of Bonaventure, Black Holes and Whitehead          916  \n",
       "15    Jimmy Garoppolo Begins Bright Future With 49ers         2083  \n",
       "16  One year, many Trumps: 2017’s 10 best theories...         3356  \n",
       "17             Ask Me Anything: Team Development pt 2         1227  \n",
       "18  Business Model Generation (Alexander Osterwald...         1828  \n",
       "19                                   Cuba's Wild Side         1772  "
      ]
     },
     "metadata": {},
     "output_type": "display_data"
    }
   ],
   "source": [
    "original_data = pd.read_csv(os.path.join(data_dir, 'test_data.csv'), encoding='utf-8')\n",
    "original_data['content_len'] = original_data.content.apply(lambda x: len(x.split()))\n",
    "display(original_data.head(n=20))"
   ]
  },
  {
   "cell_type": "code",
   "execution_count": 20,
   "metadata": {},
   "outputs": [],
   "source": [
    "from utils.create_datasets import Entry\n",
    "with open(os.path.join(data_dir, 'Vocab.pkl'), 'rb') as f:\n",
    "    Vocab_ = pickle.load(f)"
   ]
  },
  {
   "cell_type": "code",
   "execution_count": 21,
   "metadata": {},
   "outputs": [],
   "source": [
    "example_content, example_title = original_data.content[8], original_data.title[8]\n",
    "an_example = Entry(example_content, example_title, vocab=Vocab_)"
   ]
  },
  {
   "cell_type": "code",
   "execution_count": 23,
   "metadata": {},
   "outputs": [
    {
     "data": {
      "text/plain": [
       "421"
      ]
     },
     "execution_count": 23,
     "metadata": {},
     "output_type": "execute_result"
    }
   ],
   "source": [
    "an_example.pad_encoder_input(config.max_enc_steps,0)\n",
    "an_example.pad_decoder_inp_targ(config.max_dec_steps, 0)\n",
    "an_example.enc_len"
   ]
  },
  {
   "cell_type": "code",
   "execution_count": 7,
   "metadata": {},
   "outputs": [],
   "source": [
    "embedding_dim = 50\n",
    "hidden_dim = 10\n",
    "# for the padding index 0 and the Unktoken vocab_size + 1, so there will be NUM_WORDS+2\n",
    "# tokens\n",
    "embedding = nn.Embedding(config.NUM_WORDS +2, embedding_dim=embedding_dim)\n",
    "lstm = nn.LSTM(embedding_dim, hidden_dim)"
   ]
  },
  {
   "cell_type": "code",
   "execution_count": 8,
   "metadata": {},
   "outputs": [],
   "source": [
    "x = torch.from_numpy(example_1[0])"
   ]
  },
  {
   "cell_type": "code",
   "execution_count": 18,
   "metadata": {},
   "outputs": [
    {
     "data": {
      "text/plain": [
       "torch.Size([20, 600, 10])"
      ]
     },
     "metadata": {},
     "output_type": "display_data"
    },
    {
     "data": {
      "text/plain": [
       "tensor([[0.5158, 0.5986, 0.5767, 0.6330, 0.6154, 0.5766, 0.5469, 0.5183, 0.5927,\n",
       "         0.6202],\n",
       "        [0.7223, 0.7004, 0.7794, 0.7969, 0.6252, 0.6994, 0.6700, 0.5775, 0.7517,\n",
       "         0.5574],\n",
       "        [0.7473, 0.7252, 0.7682, 0.7023, 0.5624, 0.8189, 0.6409, 0.5131, 0.7309,\n",
       "         0.4857],\n",
       "        [0.5584, 0.6599, 0.6808, 0.7636, 0.5259, 0.7098, 0.5762, 0.4847, 0.6862,\n",
       "         0.6399],\n",
       "        [0.6476, 0.7076, 0.5770, 0.7636, 0.6496, 0.6973, 0.7276, 0.4431, 0.7674,\n",
       "         0.7345],\n",
       "        [0.6452, 0.7501, 0.7968, 0.8239, 0.5946, 0.7437, 0.7452, 0.5760, 0.7495,\n",
       "         0.7888],\n",
       "        [0.6735, 0.7684, 0.7626, 0.8101, 0.5257, 0.6962, 0.7921, 0.6199, 0.6625,\n",
       "         0.6860],\n",
       "        [0.6611, 0.7546, 0.9221, 0.8342, 0.5152, 0.5993, 0.5278, 0.5426, 0.7551,\n",
       "         0.7246],\n",
       "        [0.6412, 0.7144, 0.7900, 0.6860, 0.5302, 0.7327, 0.5842, 0.4725, 0.6623,\n",
       "         0.7129],\n",
       "        [0.6147, 0.6282, 0.7176, 0.7142, 0.7873, 0.7952, 0.7722, 0.4929, 0.7931,\n",
       "         0.7722],\n",
       "        [0.7130, 0.8281, 0.7118, 0.6628, 0.5510, 0.8526, 0.5382, 0.5779, 0.7048,\n",
       "         0.6671],\n",
       "        [0.7105, 0.6889, 0.8545, 0.7935, 0.5874, 0.7565, 0.5195, 0.5474, 0.6614,\n",
       "         0.6103],\n",
       "        [0.6711, 0.8160, 0.7281, 0.7006, 0.6739, 0.6710, 0.5834, 0.6172, 0.7166,\n",
       "         0.6096],\n",
       "        [0.7083, 0.8135, 0.7404, 0.7398, 0.7331, 0.6695, 0.7750, 0.5434, 0.6921,\n",
       "         0.5824],\n",
       "        [0.6519, 0.7127, 0.8443, 0.7323, 0.5114, 0.7547, 0.7795, 0.5572, 0.7423,\n",
       "         0.6289],\n",
       "        [0.7332, 0.7236, 0.8277, 0.7639, 0.4920, 0.6111, 0.5906, 0.5000, 0.7667,\n",
       "         0.7029],\n",
       "        [0.6660, 0.6698, 0.7830, 0.7672, 0.6545, 0.7520, 0.8619, 0.5607, 0.7496,\n",
       "         0.7822],\n",
       "        [0.7547, 0.7105, 0.7498, 0.7901, 0.7642, 0.7862, 0.6442, 0.6601, 0.7336,\n",
       "         0.6920],\n",
       "        [0.6630, 0.7814, 0.7607, 0.8209, 0.5148, 0.7510, 0.6068, 0.5805, 0.7824,\n",
       "         0.6844],\n",
       "        [0.6298, 0.7752, 0.6936, 0.7296, 0.6192, 0.7780, 0.5878, 0.7786, 0.7278,\n",
       "         0.6569]], grad_fn=<MaxBackward0>)"
      ]
     },
     "metadata": {},
     "output_type": "display_data"
    }
   ],
   "source": [
    "embeded_x = embedding(x)\n",
    "output, hidden = lstm(embeded_x)\n",
    "h = output.contiguous()\n",
    "display(h.shape)\n",
    "max_h, _ = h.max(dim=1) # find each batch's maximum hidden state\n",
    "display(max_h)"
   ]
  },
  {
   "cell_type": "code",
   "execution_count": 13,
   "metadata": {},
   "outputs": [],
   "source": [
    "h_c, h_ = hidden"
   ]
  },
  {
   "cell_type": "code",
   "execution_count": 19,
   "metadata": {},
   "outputs": [
    {
     "data": {
      "text/plain": [
       "torch.Size([1, 1, 600, 10])"
      ]
     },
     "execution_count": 19,
     "metadata": {},
     "output_type": "execute_result"
    }
   ],
   "source": [
    "h_c.unsqueeze(0).shape"
   ]
  }
 ],
 "metadata": {
  "kernelspec": {
   "display_name": "Python 3",
   "language": "python",
   "name": "python3"
  },
  "language_info": {
   "codemirror_mode": {
    "name": "ipython",
    "version": 3
   },
   "file_extension": ".py",
   "mimetype": "text/x-python",
   "name": "python",
   "nbconvert_exporter": "python",
   "pygments_lexer": "ipython3",
   "version": "3.6.5"
  }
 },
 "nbformat": 4,
 "nbformat_minor": 2
}
