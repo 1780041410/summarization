{
 "cells": [
  {
   "cell_type": "code",
   "execution_count": 1,
   "metadata": {},
   "outputs": [
    {
     "name": "stderr",
     "output_type": "stream",
     "text": [
      "/home/chenxiang/anaconda3/lib/python3.6/site-packages/h5py/__init__.py:36: FutureWarning: Conversion of the second argument of issubdtype from `float` to `np.floating` is deprecated. In future, it will be treated as `np.float64 == np.dtype(float).type`.\n",
      "  from ._conv import register_converters as _register_converters\n"
     ]
    }
   ],
   "source": [
    "import torch\n",
    "import torch.nn as nn\n",
    "import torch.nn.functional as F\n",
    "import numpy as np\n",
    "from IPython.display import display\n",
    "import pandas as pd\n",
    "import h5py\n",
    "import os\n",
    "# to load data from the test file\n",
    "from utils.create_datasets import SumDatasets\n",
    "# To load the data sets here, also we will create some examples to explore torch\n",
    "data_dir = '../data/'\n",
    "from utils import config\n",
    "import pickle\n",
    "from torch.nn.utils.rnn import pack_padded_sequence, pad_packed_sequence"
   ]
  },
  {
   "cell_type": "code",
   "execution_count": 2,
   "metadata": {},
   "outputs": [],
   "source": [
    "sum_dataset = SumDatasets(os.path.join(data_dir, 'features-600-40_v2.hdf5'))"
   ]
  },
  {
   "cell_type": "code",
   "execution_count": 3,
   "metadata": {},
   "outputs": [],
   "source": [
    "features_1, features_2, features_3, features_4 = sum_dataset[0:10] # assume we have a batch data of 20 items."
   ]
  },
  {
   "cell_type": "markdown",
   "metadata": {},
   "source": [
    "## given the data, build a very naive summarization model here\n",
    "* first, we need to compute all the hidden state of each time step and a final state, contain cell state and hidden state of the final time and feed it into the network and do the decoder agian."
   ]
  },
  {
   "cell_type": "code",
   "execution_count": 54,
   "metadata": {},
   "outputs": [],
   "source": [
    "class Encoder(nn.Module):\n",
    "    def __init__(self):\n",
    "        super(Encoder, self).__init__()\n",
    "        self.embed = nn.Embedding(config.NUM_WORDS + 2, config.embedding_dim)\n",
    "        self.rnn = nn.LSTM(config.embedding_dim, config.hidden_dim, bidirectional=True)\n",
    "        self.reduce_ = nn.Linear(2 * config.hidden_dim, config.hidden_dim)\n",
    "        \n",
    "    def forward(self, X, seq_lens):\n",
    "        \"\"\"return the final satets and also the outputs of each timesteps, for the later usage of\n",
    "        computing the Attentaion matrix foe each time step input of the Decoder.\n",
    "        \n",
    "        Parameters\n",
    "        ----------\n",
    "        X : [Torch tensor with batch*MAX_STEP]\n",
    "            \n",
    "        seq_lens : [descend order of the real length of the data]\n",
    "        \"\"\"\n",
    "        X = self.embed(X)\n",
    "        batch_size = X.size()[0]\n",
    "        packed_x = pack_padded_sequence(X, seq_lens, batch_first=True)\n",
    "        outputs, hidden = self.rnn(packed_x)\n",
    "        outputs, seq_lens = pad_packed_sequence(outputs, batch_first=True)\n",
    "        # outputs is a bathc*max_enc_steps*(2*hidden_dim), but for the hidden\n",
    "        # must give then to batch first format, so we need to implement this\n",
    "        # with the following code.\n",
    "        hidden_c, hidden_s = hidden\n",
    "        hidden_c = self.reduce_(hidden_c.permute([1, 0, 2]).contiguous().view(batch_size, -1))\n",
    "        hidden_s = self.reduce_(hidden_s.permute([1, 0, 2]).contiguous().view(batch_size, -1))\n",
    "        \n",
    "        hidden_c.unsqueeze_(1)\n",
    "        hidden_s.unsqueeze_(1)\n",
    "        # to make the hidden to be batch first and later, do the loop over time\n",
    "        hidden = (hidden_c.permute([1, 0, 2]), hidden_s.permute([1, 0, 2]))\n",
    "        return outputs, hidden"
   ]
  },
  {
   "cell_type": "code",
   "execution_count": 55,
   "metadata": {},
   "outputs": [
    {
     "data": {
      "text/plain": [
       "torch.Size([1, 10, 50])"
      ]
     },
     "metadata": {},
     "output_type": "display_data"
    }
   ],
   "source": [
    "encoder = Encoder()\n",
    "outputs, hidden = encoder(features_1, features_2)\n",
    "display(hidden[0].shape)"
   ]
  },
  {
   "cell_type": "code",
   "execution_count": 83,
   "metadata": {},
   "outputs": [],
   "source": [
    "class Decoder(nn.Module):\n",
    "    def __init__(self):\n",
    "        super(Decoder, self).__init__()\n",
    "        self.embed = nn.Embedding(config.NUM_WORDS+4, config.embedding_dim)\n",
    "        self.rnn = nn.LSTM(config.embedding_dim, config.hidden_dim, batch_first=True)\n",
    "        self.logits = nn.Linear(config.hidden_dim, config.NUM_WORDS, bias=False)\n",
    "        \n",
    "        \n",
    "        \n",
    "    def forward(self, X, hidden):\n",
    "        \"\"\"\n",
    "        using the encoder's hidden state to initiaize the decoder\n",
    "        input and also use the teaching force in the training mode. here\n",
    "        TODO: how we tell the real difference between the train, teaching force and\n",
    "        the evalutaion?\n",
    "        \"\"\"\n",
    "        X = self.embed(X)\n",
    "        # first we need to transoform the X to be the seq_len first\n",
    "        X = X.unsqueeze_(1) # just one time step, the X now shoud be batch_size*1*embeeding_dim\n",
    "        outputs, hidden = self.rnn(X, hidden)\n",
    "        outputs = F.log_softmax(self.logits(outputs.squeeze_(1)), dim=1)\n",
    "        return outputs, hidden"
   ]
  },
  {
   "cell_type": "code",
   "execution_count": 84,
   "metadata": {},
   "outputs": [
    {
     "data": {
      "text/plain": [
       "tensor(10.8478, grad_fn=<AddBackward>)"
      ]
     },
     "metadata": {},
     "output_type": "display_data"
    },
    {
     "data": {
      "text/plain": [
       "tensor(21.6946, grad_fn=<ThAddBackward>)"
      ]
     },
     "metadata": {},
     "output_type": "display_data"
    },
    {
     "data": {
      "text/plain": [
       "tensor(32.4967, grad_fn=<ThAddBackward>)"
      ]
     },
     "metadata": {},
     "output_type": "display_data"
    },
    {
     "data": {
      "text/plain": [
       "tensor(43.2764, grad_fn=<ThAddBackward>)"
      ]
     },
     "metadata": {},
     "output_type": "display_data"
    },
    {
     "data": {
      "text/plain": [
       "tensor(54.0962, grad_fn=<ThAddBackward>)"
      ]
     },
     "metadata": {},
     "output_type": "display_data"
    },
    {
     "data": {
      "text/plain": [
       "tensor(64.9552, grad_fn=<ThAddBackward>)"
      ]
     },
     "metadata": {},
     "output_type": "display_data"
    },
    {
     "data": {
      "text/plain": [
       "tensor(75.7649, grad_fn=<ThAddBackward>)"
      ]
     },
     "metadata": {},
     "output_type": "display_data"
    },
    {
     "data": {
      "text/plain": [
       "tensor(86.6613, grad_fn=<ThAddBackward>)"
      ]
     },
     "metadata": {},
     "output_type": "display_data"
    },
    {
     "data": {
      "text/plain": [
       "tensor(97.4854, grad_fn=<ThAddBackward>)"
      ]
     },
     "metadata": {},
     "output_type": "display_data"
    },
    {
     "data": {
      "text/plain": [
       "tensor(108.2734, grad_fn=<ThAddBackward>)"
      ]
     },
     "metadata": {},
     "output_type": "display_data"
    },
    {
     "data": {
      "text/plain": [
       "tensor(119.0657, grad_fn=<ThAddBackward>)"
      ]
     },
     "metadata": {},
     "output_type": "display_data"
    }
   ],
   "source": [
    "decoder = Decoder()\n",
    "outputs = []\n",
    "# simply test the time dimension \n",
    "# feature 3 shoud be time first\n",
    "# features_3 = features_3.permute([1, 0])\n",
    "# features_4 = features_4.permute([1, 0])\n",
    "loss = 0\n",
    "critertion = nn.NLLLoss(ignore_index=0)\n",
    "for di in range(config.max_dec_steps):\n",
    "    X = features_3[di]\n",
    "    output, hidden = decoder(X, hidden)\n",
    "    # here to implement the loss wrt target\n",
    "    target = features_4.permute(1, 0)[di]\n",
    "    loss += critertion(output, target)"
   ]
  },
  {
   "cell_type": "code",
   "execution_count": 93,
   "metadata": {},
   "outputs": [],
   "source": [
    "from torch.utils.data import DataLoader\n",
    "train_data = DataLoader(sum_dataset, batch_size=4, shuffle=True, num_workers=1)"
   ]
  },
  {
   "cell_type": "code",
   "execution_count": 94,
   "metadata": {},
   "outputs": [
    {
     "ename": "TypeError",
     "evalue": "Traceback (most recent call last):\n  File \"/home/chenxiang/anaconda3/lib/python3.6/site-packages/torch/utils/data/dataloader.py\", line 106, in _worker_loop\n    samples = collate_fn([dataset[i] for i in batch_indices])\n  File \"/home/chenxiang/anaconda3/lib/python3.6/site-packages/torch/utils/data/dataloader.py\", line 106, in <listcomp>\n    samples = collate_fn([dataset[i] for i in batch_indices])\n  File \"/data0/chenxiang/Sep/bytecup-2018/bytecup_competition/summarization/utils/create_datasets.py\", line 325, in __getitem__\n    features_1, features_2 = torch.from_numpy(features_1).long(), torch.from_numpy(features_2).long()\nTypeError: expected np.ndarray (got numpy.int64)\n",
     "output_type": "error",
     "traceback": [
      "\u001b[0;31m---------------------------------------------------------------------------\u001b[0m",
      "\u001b[0;31mTypeError\u001b[0m                                 Traceback (most recent call last)",
      "\u001b[0;32m<ipython-input-94-0de483c54523>\u001b[0m in \u001b[0;36m<module>\u001b[0;34m()\u001b[0m\n\u001b[0;32m----> 1\u001b[0;31m \u001b[0;32mfor\u001b[0m \u001b[0mi_batch\u001b[0m\u001b[0;34m,\u001b[0m \u001b[0msample_batched\u001b[0m \u001b[0;32min\u001b[0m \u001b[0menumerate\u001b[0m\u001b[0;34m(\u001b[0m\u001b[0mtrain_data\u001b[0m\u001b[0;34m)\u001b[0m\u001b[0;34m:\u001b[0m\u001b[0;34m\u001b[0m\u001b[0m\n\u001b[0m\u001b[1;32m      2\u001b[0m     \u001b[0mdisplay\u001b[0m\u001b[0;34m(\u001b[0m\u001b[0msample_batched\u001b[0m\u001b[0;34m)\u001b[0m\u001b[0;34m\u001b[0m\u001b[0m\n",
      "\u001b[0;32m~/anaconda3/lib/python3.6/site-packages/torch/utils/data/dataloader.py\u001b[0m in \u001b[0;36m__next__\u001b[0;34m(self)\u001b[0m\n\u001b[1;32m    334\u001b[0m                 \u001b[0mself\u001b[0m\u001b[0;34m.\u001b[0m\u001b[0mreorder_dict\u001b[0m\u001b[0;34m[\u001b[0m\u001b[0midx\u001b[0m\u001b[0;34m]\u001b[0m \u001b[0;34m=\u001b[0m \u001b[0mbatch\u001b[0m\u001b[0;34m\u001b[0m\u001b[0m\n\u001b[1;32m    335\u001b[0m                 \u001b[0;32mcontinue\u001b[0m\u001b[0;34m\u001b[0m\u001b[0m\n\u001b[0;32m--> 336\u001b[0;31m             \u001b[0;32mreturn\u001b[0m \u001b[0mself\u001b[0m\u001b[0;34m.\u001b[0m\u001b[0m_process_next_batch\u001b[0m\u001b[0;34m(\u001b[0m\u001b[0mbatch\u001b[0m\u001b[0;34m)\u001b[0m\u001b[0;34m\u001b[0m\u001b[0m\n\u001b[0m\u001b[1;32m    337\u001b[0m \u001b[0;34m\u001b[0m\u001b[0m\n\u001b[1;32m    338\u001b[0m     \u001b[0mnext\u001b[0m \u001b[0;34m=\u001b[0m \u001b[0m__next__\u001b[0m  \u001b[0;31m# Python 2 compatibility\u001b[0m\u001b[0;34m\u001b[0m\u001b[0m\n",
      "\u001b[0;32m~/anaconda3/lib/python3.6/site-packages/torch/utils/data/dataloader.py\u001b[0m in \u001b[0;36m_process_next_batch\u001b[0;34m(self, batch)\u001b[0m\n\u001b[1;32m    355\u001b[0m         \u001b[0mself\u001b[0m\u001b[0;34m.\u001b[0m\u001b[0m_put_indices\u001b[0m\u001b[0;34m(\u001b[0m\u001b[0;34m)\u001b[0m\u001b[0;34m\u001b[0m\u001b[0m\n\u001b[1;32m    356\u001b[0m         \u001b[0;32mif\u001b[0m \u001b[0misinstance\u001b[0m\u001b[0;34m(\u001b[0m\u001b[0mbatch\u001b[0m\u001b[0;34m,\u001b[0m \u001b[0mExceptionWrapper\u001b[0m\u001b[0;34m)\u001b[0m\u001b[0;34m:\u001b[0m\u001b[0;34m\u001b[0m\u001b[0m\n\u001b[0;32m--> 357\u001b[0;31m             \u001b[0;32mraise\u001b[0m \u001b[0mbatch\u001b[0m\u001b[0;34m.\u001b[0m\u001b[0mexc_type\u001b[0m\u001b[0;34m(\u001b[0m\u001b[0mbatch\u001b[0m\u001b[0;34m.\u001b[0m\u001b[0mexc_msg\u001b[0m\u001b[0;34m)\u001b[0m\u001b[0;34m\u001b[0m\u001b[0m\n\u001b[0m\u001b[1;32m    358\u001b[0m         \u001b[0;32mreturn\u001b[0m \u001b[0mbatch\u001b[0m\u001b[0;34m\u001b[0m\u001b[0m\n\u001b[1;32m    359\u001b[0m \u001b[0;34m\u001b[0m\u001b[0m\n",
      "\u001b[0;31mTypeError\u001b[0m: Traceback (most recent call last):\n  File \"/home/chenxiang/anaconda3/lib/python3.6/site-packages/torch/utils/data/dataloader.py\", line 106, in _worker_loop\n    samples = collate_fn([dataset[i] for i in batch_indices])\n  File \"/home/chenxiang/anaconda3/lib/python3.6/site-packages/torch/utils/data/dataloader.py\", line 106, in <listcomp>\n    samples = collate_fn([dataset[i] for i in batch_indices])\n  File \"/data0/chenxiang/Sep/bytecup-2018/bytecup_competition/summarization/utils/create_datasets.py\", line 325, in __getitem__\n    features_1, features_2 = torch.from_numpy(features_1).long(), torch.from_numpy(features_2).long()\nTypeError: expected np.ndarray (got numpy.int64)\n"
     ]
    }
   ],
   "source": [
    "for i_batch, sample_batched in enumerate(train_data):\n",
    "    display(sample_batched)"
   ]
  }
 ],
 "metadata": {
  "kernelspec": {
   "display_name": "Python 3",
   "language": "python",
   "name": "python3"
  },
  "language_info": {
   "codemirror_mode": {
    "name": "ipython",
    "version": 3
   },
   "file_extension": ".py",
   "mimetype": "text/x-python",
   "name": "python",
   "nbconvert_exporter": "python",
   "pygments_lexer": "ipython3",
   "version": "3.6.5"
  }
 },
 "nbformat": 4,
 "nbformat_minor": 2
}
