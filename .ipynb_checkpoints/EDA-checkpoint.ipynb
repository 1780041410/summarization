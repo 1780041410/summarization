{
 "cells": [
  {
   "cell_type": "code",
   "execution_count": 1,
   "metadata": {},
   "outputs": [],
   "source": [
    "import pandas as pd\n",
    "import os\n",
    "import json\n",
    "from IPython.display import display\n",
    "import matplotlib.pyplot as plt\n",
    "%matplotlib inline"
   ]
  },
  {
   "cell_type": "markdown",
   "metadata": {},
   "source": [
    "# 查看数据的基本组织格式 "
   ]
  },
  {
   "cell_type": "code",
   "execution_count": 2,
   "metadata": {},
   "outputs": [],
   "source": [
    "data_dir = '../data/'\n",
    "base_names = ['bytecup.corpus.train.'+str(i) + '.txt' for i in range(9)]\n",
    "# training_dataframe = [pd.read_json(os.path.join(data_dir, base_names[i]), lines=True) for i in range(9)]\n",
    "# training_dataframe = pd.concat(training_dataframe)"
   ]
  },
  {
   "cell_type": "code",
   "execution_count": 5,
   "metadata": {},
   "outputs": [
    {
     "data": {
      "text/html": [
       "<div>\n",
       "<style scoped>\n",
       "    .dataframe tbody tr th:only-of-type {\n",
       "        vertical-align: middle;\n",
       "    }\n",
       "\n",
       "    .dataframe tbody tr th {\n",
       "        vertical-align: top;\n",
       "    }\n",
       "\n",
       "    .dataframe thead th {\n",
       "        text-align: right;\n",
       "    }\n",
       "</style>\n",
       "<table border=\"1\" class=\"dataframe\">\n",
       "  <thead>\n",
       "    <tr style=\"text-align: right;\">\n",
       "      <th></th>\n",
       "      <th>content</th>\n",
       "      <th>id</th>\n",
       "      <th>title</th>\n",
       "    </tr>\n",
       "  </thead>\n",
       "  <tbody>\n",
       "    <tr>\n",
       "      <th>0</th>\n",
       "      <td>This was the year that felt like 50 years. We ...</td>\n",
       "      <td>1</td>\n",
       "      <td>21 Stories Our Readers Loved in 2017</td>\n",
       "    </tr>\n",
       "    <tr>\n",
       "      <th>1</th>\n",
       "      <td>Gary Vaynerchuk once told a 20 year old Taylor...</td>\n",
       "      <td>2</td>\n",
       "      <td>What To Do After Graduating College</td>\n",
       "    </tr>\n",
       "    <tr>\n",
       "      <th>2</th>\n",
       "      <td>On this episode of Recode Decode, hosted by Ka...</td>\n",
       "      <td>3</td>\n",
       "      <td>Full transcript: Former Groupon CEO Andrew Mas...</td>\n",
       "    </tr>\n",
       "    <tr>\n",
       "      <th>3</th>\n",
       "      <td>Today we are going to talk about the Albigensi...</td>\n",
       "      <td>4</td>\n",
       "      <td>The Albigensian Crusade And The Black Mass</td>\n",
       "    </tr>\n",
       "    <tr>\n",
       "      <th>4</th>\n",
       "      <td>IntroductionThe more you want to impact the re...</td>\n",
       "      <td>5</td>\n",
       "      <td>The Surprising Secret To Changing The World</td>\n",
       "    </tr>\n",
       "  </tbody>\n",
       "</table>\n",
       "</div>"
      ],
      "text/plain": [
       "                                             content  id  \\\n",
       "0  This was the year that felt like 50 years. We ...   1   \n",
       "1  Gary Vaynerchuk once told a 20 year old Taylor...   2   \n",
       "2  On this episode of Recode Decode, hosted by Ka...   3   \n",
       "3  Today we are going to talk about the Albigensi...   4   \n",
       "4  IntroductionThe more you want to impact the re...   5   \n",
       "\n",
       "                                               title  \n",
       "0               21 Stories Our Readers Loved in 2017  \n",
       "1                What To Do After Graduating College  \n",
       "2  Full transcript: Former Groupon CEO Andrew Mas...  \n",
       "3         The Albigensian Crusade And The Black Mass  \n",
       "4        The Surprising Secret To Changing The World  "
      ]
     },
     "metadata": {},
     "output_type": "display_data"
    }
   ],
   "source": [
    "# we will create a test file for the following things.\n",
    "test_data = pd.read_json(os.path.join(data_dir, base_names[0]), lines=True)\n",
    "display(test_data.head())"
   ]
  },
  {
   "cell_type": "code",
   "execution_count": 10,
   "metadata": {},
   "outputs": [
    {
     "data": {
      "text/html": [
       "<div>\n",
       "<style scoped>\n",
       "    .dataframe tbody tr th:only-of-type {\n",
       "        vertical-align: middle;\n",
       "    }\n",
       "\n",
       "    .dataframe tbody tr th {\n",
       "        vertical-align: top;\n",
       "    }\n",
       "\n",
       "    .dataframe thead th {\n",
       "        text-align: right;\n",
       "    }\n",
       "</style>\n",
       "<table border=\"1\" class=\"dataframe\">\n",
       "  <thead>\n",
       "    <tr style=\"text-align: right;\">\n",
       "      <th></th>\n",
       "      <th>id</th>\n",
       "      <th>content</th>\n",
       "      <th>title</th>\n",
       "    </tr>\n",
       "  </thead>\n",
       "  <tbody>\n",
       "    <tr>\n",
       "      <th>0</th>\n",
       "      <td>1</td>\n",
       "      <td>This was the year that felt like 50 years. We ...</td>\n",
       "      <td>21 Stories Our Readers Loved in 2017</td>\n",
       "    </tr>\n",
       "    <tr>\n",
       "      <th>1</th>\n",
       "      <td>2</td>\n",
       "      <td>Gary Vaynerchuk once told a 20 year old Taylor...</td>\n",
       "      <td>What To Do After Graduating College</td>\n",
       "    </tr>\n",
       "    <tr>\n",
       "      <th>2</th>\n",
       "      <td>3</td>\n",
       "      <td>On this episode of Recode Decode, hosted by Ka...</td>\n",
       "      <td>Full transcript: Former Groupon CEO Andrew Mas...</td>\n",
       "    </tr>\n",
       "    <tr>\n",
       "      <th>3</th>\n",
       "      <td>4</td>\n",
       "      <td>Today we are going to talk about the Albigensi...</td>\n",
       "      <td>The Albigensian Crusade And The Black Mass</td>\n",
       "    </tr>\n",
       "    <tr>\n",
       "      <th>4</th>\n",
       "      <td>5</td>\n",
       "      <td>IntroductionThe more you want to impact the re...</td>\n",
       "      <td>The Surprising Secret To Changing The World</td>\n",
       "    </tr>\n",
       "  </tbody>\n",
       "</table>\n",
       "</div>"
      ],
      "text/plain": [
       "   id                                            content  \\\n",
       "0   1  This was the year that felt like 50 years. We ...   \n",
       "1   2  Gary Vaynerchuk once told a 20 year old Taylor...   \n",
       "2   3  On this episode of Recode Decode, hosted by Ka...   \n",
       "3   4  Today we are going to talk about the Albigensi...   \n",
       "4   5  IntroductionThe more you want to impact the re...   \n",
       "\n",
       "                                               title  \n",
       "0               21 Stories Our Readers Loved in 2017  \n",
       "1                What To Do After Graduating College  \n",
       "2  Full transcript: Former Groupon CEO Andrew Mas...  \n",
       "3         The Albigensian Crusade And The Black Mass  \n",
       "4        The Surprising Secret To Changing The World  "
      ]
     },
     "metadata": {},
     "output_type": "display_data"
    }
   ],
   "source": [
    "test_data= test_data[['id', 'content', 'title']]\n",
    "display(test_data.head())\n",
    "test_data.to_csv('test_data.csv', index=False)"
   ]
  },
  {
   "cell_type": "code",
   "execution_count": 3,
   "metadata": {},
   "outputs": [],
   "source": [
    "len(training_dataframe)\n",
    "# we will check the passag length and the title length, this \n",
    "# will be the most fundamental features.\n",
    "\n",
    "def vocab_length(item):\n",
    "    new_item = item.split(' ')\n",
    "    return len(new_item)\n",
    "training_dataframe['title_length'] = training_dataframe.title.apply(vocab_length)\n",
    "training_dataframe['content_length'] = training_dataframe.content.apply(vocab_length)"
   ]
  },
  {
   "cell_type": "markdown",
   "metadata": {},
   "source": [
    "## EDA 第一部分，查看文章的长度和标题的长度"
   ]
  },
  {
   "cell_type": "code",
   "execution_count": 4,
   "metadata": {},
   "outputs": [
    {
     "data": {
      "text/html": [
       "<div>\n",
       "<style scoped>\n",
       "    .dataframe tbody tr th:only-of-type {\n",
       "        vertical-align: middle;\n",
       "    }\n",
       "\n",
       "    .dataframe tbody tr th {\n",
       "        vertical-align: top;\n",
       "    }\n",
       "\n",
       "    .dataframe thead th {\n",
       "        text-align: right;\n",
       "    }\n",
       "</style>\n",
       "<table border=\"1\" class=\"dataframe\">\n",
       "  <thead>\n",
       "    <tr style=\"text-align: right;\">\n",
       "      <th></th>\n",
       "      <th>content</th>\n",
       "      <th>id</th>\n",
       "      <th>title</th>\n",
       "      <th>title_length</th>\n",
       "      <th>content_length</th>\n",
       "    </tr>\n",
       "  </thead>\n",
       "  <tbody>\n",
       "    <tr>\n",
       "      <th>0</th>\n",
       "      <td>This was the year that felt like 50 years. We ...</td>\n",
       "      <td>1</td>\n",
       "      <td>21 Stories Our Readers Loved in 2017</td>\n",
       "      <td>7</td>\n",
       "      <td>4142</td>\n",
       "    </tr>\n",
       "    <tr>\n",
       "      <th>1</th>\n",
       "      <td>Gary Vaynerchuk once told a 20 year old Taylor...</td>\n",
       "      <td>2</td>\n",
       "      <td>What To Do After Graduating College</td>\n",
       "      <td>6</td>\n",
       "      <td>2054</td>\n",
       "    </tr>\n",
       "    <tr>\n",
       "      <th>2</th>\n",
       "      <td>On this episode of Recode Decode, hosted by Ka...</td>\n",
       "      <td>3</td>\n",
       "      <td>Full transcript: Former Groupon CEO Andrew Mas...</td>\n",
       "      <td>10</td>\n",
       "      <td>11679</td>\n",
       "    </tr>\n",
       "    <tr>\n",
       "      <th>3</th>\n",
       "      <td>Today we are going to talk about the Albigensi...</td>\n",
       "      <td>4</td>\n",
       "      <td>The Albigensian Crusade And The Black Mass</td>\n",
       "      <td>7</td>\n",
       "      <td>992</td>\n",
       "    </tr>\n",
       "    <tr>\n",
       "      <th>4</th>\n",
       "      <td>IntroductionThe more you want to impact the re...</td>\n",
       "      <td>5</td>\n",
       "      <td>The Surprising Secret To Changing The World</td>\n",
       "      <td>7</td>\n",
       "      <td>5153</td>\n",
       "    </tr>\n",
       "  </tbody>\n",
       "</table>\n",
       "</div>"
      ],
      "text/plain": [
       "                                             content  id  \\\n",
       "0  This was the year that felt like 50 years. We ...   1   \n",
       "1  Gary Vaynerchuk once told a 20 year old Taylor...   2   \n",
       "2  On this episode of Recode Decode, hosted by Ka...   3   \n",
       "3  Today we are going to talk about the Albigensi...   4   \n",
       "4  IntroductionThe more you want to impact the re...   5   \n",
       "\n",
       "                                               title  title_length  \\\n",
       "0               21 Stories Our Readers Loved in 2017             7   \n",
       "1                What To Do After Graduating College             6   \n",
       "2  Full transcript: Former Groupon CEO Andrew Mas...            10   \n",
       "3         The Albigensian Crusade And The Black Mass             7   \n",
       "4        The Surprising Secret To Changing The World             7   \n",
       "\n",
       "   content_length  \n",
       "0            4142  \n",
       "1            2054  \n",
       "2           11679  \n",
       "3             992  \n",
       "4            5153  "
      ]
     },
     "metadata": {},
     "output_type": "display_data"
    },
    {
     "data": {
      "text/plain": [
       "556.9957582352611"
      ]
     },
     "metadata": {},
     "output_type": "display_data"
    },
    {
     "data": {
      "text/plain": [
       "449.0"
      ]
     },
     "metadata": {},
     "output_type": "display_data"
    },
    {
     "data": {
      "image/png": "[encoded data removed]",
      "text/plain": [
       "<Figure size 432x288 with 1 Axes>"
      ]
     },
     "metadata": {},
     "output_type": "display_data"
    },
    {
     "data": {
      "image/png": "[encoded data removed]",
      "text/plain": [
       "<Figure size 432x288 with 1 Axes>"
      ]
     },
     "metadata": {},
     "output_type": "display_data"
    }
   ],
   "source": [
    "display(training_dataframe.head())\n",
    "training_dataframe.content_length.plot.hist(grid=True, bins=100, rwidth = 0.9, \n",
    "                                           color = '#607103')\n",
    "plt.title('the overall length of the training contents')\n",
    "plt.xlabel('the length')\n",
    "plt.ylabel('counts')\n",
    "plt.grid(axis='y', alpha = 0.5)\n",
    "\n",
    "plt.figure()\n",
    "training_dataframe.title_length.plot.hist(grid=True, bins=30, rwidth=0.9, color = \"#607123\")\n",
    "plt.title(\"the overall length of the title\")\n",
    "plt.xlabel(\"the length\")\n",
    "plt.ylabel(\"the counts\")\n",
    "plt.grid(axis='y', alpha=0.5)\n",
    "display(training_dataframe.content_length.mean())\n",
    "display(training_dataframe.content_length.median())"
   ]
  },
  {
   "cell_type": "code",
   "execution_count": 5,
   "metadata": {},
   "outputs": [
    {
     "data": {
      "text/plain": [
       "'Full transcript: Former Groupon CEO Andrew Mason on Recode Decode'"
      ]
     },
     "execution_count": 5,
     "metadata": {},
     "output_type": "execute_result"
    }
   ],
   "source": [
    "list(training_dataframe.title)[2]"
   ]
  },
  {
   "cell_type": "code",
   "execution_count": 6,
   "metadata": {},
   "outputs": [],
   "source": [
    "data_result = training_dataframe.to_csv('training_data.csv', encoding='utf-8')"
   ]
  },
  {
   "cell_type": "markdown",
   "metadata": {},
   "source": [
    "*1 大部分的文章都算是比较长的, 平均情况是大约为3000个单词，但是标题都是差不多是120个以内的。"
   ]
  }
 ],
 "metadata": {
  "kernelspec": {
   "display_name": "Python 3",
   "language": "python",
   "name": "python3"
  },
  "language_info": {
   "codemirror_mode": {
    "name": "ipython",
    "version": 3
   },
   "file_extension": ".py",
   "mimetype": "text/x-python",
   "name": "python",
   "nbconvert_exporter": "python",
   "pygments_lexer": "ipython3",
   "version": "3.6.5"
  }
 },
 "nbformat": 4,
 "nbformat_minor": 2
}
